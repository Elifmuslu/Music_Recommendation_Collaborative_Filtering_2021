{
  "nbformat": 4,
  "nbformat_minor": 0,
  "metadata": {
    "colab": {
      "name": "Music Recommendation System-2.ipynb adlı dosyanın kopyası",
      "provenance": [],
      "collapsed_sections": []
    },
    "kernelspec": {
      "display_name": "Python 3",
      "name": "python3"
    },
    "language_info": {
      "name": "python"
    }
  },
  "cells": [
    {
      "cell_type": "code",
      "metadata": {
        "id": "kVooW9LFJh5g"
      },
      "source": [
        "#Gerekli kütüphanelerin yüklenmesi\n",
        "import pandas as pd\n",
        "from scipy.spatial.distance import cosine\n",
        "import numpy as np\n",
        "from scipy.sparse import csr_matrix\n",
        "\n",
        "# sonuçlar 3 ondalık basamakla göstermek için.\n",
        "pd.set_option('display.float_format', lambda x: '%.3f' % x)\n"
      ],
      "execution_count": null,
      "outputs": []
    },
    {
      "cell_type": "code",
      "metadata": {
        "id": "L0C0hIrpJoap"
      },
      "source": [
        "#Kullanıcı, artist ismi ve oynatılma sayısı olan verilerin yüklenilmesi.\n",
        "user_data = pd.read_table('/content/usersha1-artmbid-artname-plays.tsv',\n",
        "                          header = None, nrows = 2e7,\n",
        "                          names = ['users', 'musicbrainz-artist-id', 'artist-name', 'plays'],\n",
        "                          usecols = ['users', 'artist-name', 'plays'])"
      ],
      "execution_count": null,
      "outputs": []
    },
    {
      "cell_type": "code",
      "metadata": {
        "id": "SxYQAhhnM9zT"
      },
      "source": [
        "#Kullanıcı profili hakkındaki verilerin yüklenmesi.\n",
        "user_profiles = pd.read_table('/content/usersha1-profile.tsv',\n",
        "                          header = None,\n",
        "                          names = ['users', 'gender', 'age', 'country', 'signup'],\n",
        "                          usecols = ['users', 'country'])"
      ],
      "execution_count": null,
      "outputs": []
    },
    {
      "cell_type": "code",
      "metadata": {
        "colab": {
          "base_uri": "https://localhost:8080/",
          "height": 204
        },
        "id": "ynGZ8DY9NEv6",
        "outputId": "9f47824f-3b40-4300-cdf9-71f6e50b4494"
      },
      "source": [
        "#user_data verilerinin görüntülenmesi.\n",
        "user_data.head()"
      ],
      "execution_count": null,
      "outputs": [
        {
          "output_type": "execute_result",
          "data": {
            "text/html": [
              "<div>\n",
              "<style scoped>\n",
              "    .dataframe tbody tr th:only-of-type {\n",
              "        vertical-align: middle;\n",
              "    }\n",
              "\n",
              "    .dataframe tbody tr th {\n",
              "        vertical-align: top;\n",
              "    }\n",
              "\n",
              "    .dataframe thead th {\n",
              "        text-align: right;\n",
              "    }\n",
              "</style>\n",
              "<table border=\"1\" class=\"dataframe\">\n",
              "  <thead>\n",
              "    <tr style=\"text-align: right;\">\n",
              "      <th></th>\n",
              "      <th>users</th>\n",
              "      <th>artist-name</th>\n",
              "      <th>plays</th>\n",
              "    </tr>\n",
              "  </thead>\n",
              "  <tbody>\n",
              "    <tr>\n",
              "      <th>0</th>\n",
              "      <td>00000c289a1829a808ac09c00daf10bc3c4e223b</td>\n",
              "      <td>betty blowtorch</td>\n",
              "      <td>2137.000</td>\n",
              "    </tr>\n",
              "    <tr>\n",
              "      <th>1</th>\n",
              "      <td>00000c289a1829a808ac09c00daf10bc3c4e223b</td>\n",
              "      <td>die Ärzte</td>\n",
              "      <td>1099.000</td>\n",
              "    </tr>\n",
              "    <tr>\n",
              "      <th>2</th>\n",
              "      <td>00000c289a1829a808ac09c00daf10bc3c4e223b</td>\n",
              "      <td>melissa etheridge</td>\n",
              "      <td>897.000</td>\n",
              "    </tr>\n",
              "    <tr>\n",
              "      <th>3</th>\n",
              "      <td>00000c289a1829a808ac09c00daf10bc3c4e223b</td>\n",
              "      <td>elvenking</td>\n",
              "      <td>717.000</td>\n",
              "    </tr>\n",
              "    <tr>\n",
              "      <th>4</th>\n",
              "      <td>00000c289a1829a808ac09c00daf10bc3c4e223b</td>\n",
              "      <td>juliette &amp; the licks</td>\n",
              "      <td>706.000</td>\n",
              "    </tr>\n",
              "  </tbody>\n",
              "</table>\n",
              "</div>"
            ],
            "text/plain": [
              "                                      users           artist-name    plays\n",
              "0  00000c289a1829a808ac09c00daf10bc3c4e223b       betty blowtorch 2137.000\n",
              "1  00000c289a1829a808ac09c00daf10bc3c4e223b             die Ärzte 1099.000\n",
              "2  00000c289a1829a808ac09c00daf10bc3c4e223b     melissa etheridge  897.000\n",
              "3  00000c289a1829a808ac09c00daf10bc3c4e223b             elvenking  717.000\n",
              "4  00000c289a1829a808ac09c00daf10bc3c4e223b  juliette & the licks  706.000"
            ]
          },
          "metadata": {
            "tags": []
          },
          "execution_count": 4
        }
      ]
    },
    {
      "cell_type": "code",
      "metadata": {
        "colab": {
          "base_uri": "https://localhost:8080/",
          "height": 204
        },
        "id": "WNFDcthZNI6A",
        "outputId": "6b22765a-ae93-45a4-c42e-9c0f3b609dcc"
      },
      "source": [
        "#user_profiles verilerinin görüntülenmesi.\n",
        "user_profiles.head()"
      ],
      "execution_count": null,
      "outputs": [
        {
          "output_type": "execute_result",
          "data": {
            "text/html": [
              "<div>\n",
              "<style scoped>\n",
              "    .dataframe tbody tr th:only-of-type {\n",
              "        vertical-align: middle;\n",
              "    }\n",
              "\n",
              "    .dataframe tbody tr th {\n",
              "        vertical-align: top;\n",
              "    }\n",
              "\n",
              "    .dataframe thead th {\n",
              "        text-align: right;\n",
              "    }\n",
              "</style>\n",
              "<table border=\"1\" class=\"dataframe\">\n",
              "  <thead>\n",
              "    <tr style=\"text-align: right;\">\n",
              "      <th></th>\n",
              "      <th>users</th>\n",
              "      <th>country</th>\n",
              "    </tr>\n",
              "  </thead>\n",
              "  <tbody>\n",
              "    <tr>\n",
              "      <th>0</th>\n",
              "      <td>00000c289a1829a808ac09c00daf10bc3c4e223b</td>\n",
              "      <td>Germany</td>\n",
              "    </tr>\n",
              "    <tr>\n",
              "      <th>1</th>\n",
              "      <td>00001411dc427966b17297bf4d69e7e193135d89</td>\n",
              "      <td>Canada</td>\n",
              "    </tr>\n",
              "    <tr>\n",
              "      <th>2</th>\n",
              "      <td>00004d2ac9316e22dc007ab2243d6fcb239e707d</td>\n",
              "      <td>Germany</td>\n",
              "    </tr>\n",
              "    <tr>\n",
              "      <th>3</th>\n",
              "      <td>000063d3fe1cf2ba248b9e3c3f0334845a27a6bf</td>\n",
              "      <td>Mexico</td>\n",
              "    </tr>\n",
              "    <tr>\n",
              "      <th>4</th>\n",
              "      <td>00007a47085b9aab8af55f52ec8846ac479ac4fe</td>\n",
              "      <td>United States</td>\n",
              "    </tr>\n",
              "  </tbody>\n",
              "</table>\n",
              "</div>"
            ],
            "text/plain": [
              "                                      users        country\n",
              "0  00000c289a1829a808ac09c00daf10bc3c4e223b        Germany\n",
              "1  00001411dc427966b17297bf4d69e7e193135d89         Canada\n",
              "2  00004d2ac9316e22dc007ab2243d6fcb239e707d        Germany\n",
              "3  000063d3fe1cf2ba248b9e3c3f0334845a27a6bf         Mexico\n",
              "4  00007a47085b9aab8af55f52ec8846ac479ac4fe  United States"
            ]
          },
          "metadata": {
            "tags": []
          },
          "execution_count": 5
        }
      ]
    },
    {
      "cell_type": "code",
      "metadata": {
        "id": "LprtC4QHO2tN"
      },
      "source": [
        "#item-based işbirlikçi filtereleme yapacağımız için az bilinen ve az dinlenen sanatçılar bize kötü tavsiyelere sebep olacaktır. \n",
        "#Bu nedenle sadece popüler sanatçıları kullanacağız.\n",
        "#İleride sorun olmaması için sanatçı adı olmayan satırları kaldırdık.\n",
        "if user_data['artist-name'].isnull().sum() > 0:\n",
        "    user_data = user_data.dropna(axis = 0, subset = ['artist-name'])"
      ],
      "execution_count": null,
      "outputs": []
    },
    {
      "cell_type": "code",
      "metadata": {
        "id": "n2S-Kk29PGTk"
      },
      "source": [
        "#Popüler sanatçıları bulmak için de hangi sanatçının kaç kere dinlenildiğini bulmamız lazım. Bunun için her sanatçının dinlenmelerini toplayıp\n",
        "#artist ismi ile gruplıyoruz ve artist_plays değişkenine atıyoruz.\n",
        "artist_plays = (user_data.\n",
        "     groupby(by = ['artist-name'])['plays'].\n",
        "     sum().\n",
        "     reset_index().\n",
        "     rename(columns = {'plays': 'total_artist_plays'})\n",
        "     [['artist-name', 'total_artist_plays']]\n",
        "    )"
      ],
      "execution_count": null,
      "outputs": []
    },
    {
      "cell_type": "code",
      "metadata": {
        "id": "GZhFrbH0PO8o",
        "colab": {
          "base_uri": "https://localhost:8080/",
          "height": 204
        },
        "outputId": "647a2793-b04a-4bd6-af6a-d2698eb05c35"
      },
      "source": [
        "#artist_plays değişkenini görüntülüyoruz.\n",
        "artist_plays.head()"
      ],
      "execution_count": null,
      "outputs": [
        {
          "output_type": "execute_result",
          "data": {
            "text/html": [
              "<div>\n",
              "<style scoped>\n",
              "    .dataframe tbody tr th:only-of-type {\n",
              "        vertical-align: middle;\n",
              "    }\n",
              "\n",
              "    .dataframe tbody tr th {\n",
              "        vertical-align: top;\n",
              "    }\n",
              "\n",
              "    .dataframe thead th {\n",
              "        text-align: right;\n",
              "    }\n",
              "</style>\n",
              "<table border=\"1\" class=\"dataframe\">\n",
              "  <thead>\n",
              "    <tr style=\"text-align: right;\">\n",
              "      <th></th>\n",
              "      <th>artist-name</th>\n",
              "      <th>total_artist_plays</th>\n",
              "    </tr>\n",
              "  </thead>\n",
              "  <tbody>\n",
              "    <tr>\n",
              "      <th>0</th>\n",
              "      <td>cours de la somme</td>\n",
              "      <td>9.000</td>\n",
              "    </tr>\n",
              "    <tr>\n",
              "      <th>1</th>\n",
              "      <td>oliver shanti &amp; friends</td>\n",
              "      <td>3.000</td>\n",
              "    </tr>\n",
              "    <tr>\n",
              "      <th>2</th>\n",
              "      <td>!!!</td>\n",
              "      <td>19814.000</td>\n",
              "    </tr>\n",
              "    <tr>\n",
              "      <th>3</th>\n",
              "      <td>!5:b&gt;@ 3070</td>\n",
              "      <td>33.000</td>\n",
              "    </tr>\n",
              "    <tr>\n",
              "      <th>4</th>\n",
              "      <td>!action pact!</td>\n",
              "      <td>143.000</td>\n",
              "    </tr>\n",
              "  </tbody>\n",
              "</table>\n",
              "</div>"
            ],
            "text/plain": [
              "                artist-name  total_artist_plays\n",
              "0         cours de la somme               9.000\n",
              "1   oliver shanti & friends               3.000\n",
              "2                       !!!           19814.000\n",
              "3               !5:b>@ 3070              33.000\n",
              "4             !action pact!             143.000"
            ]
          },
          "metadata": {
            "tags": []
          },
          "execution_count": 8
        }
      ]
    },
    {
      "cell_type": "code",
      "metadata": {
        "id": "lByTCgSAPQo5"
      },
      "source": [
        "#Artık kullanıcı etkinlikleri ile artistin toplam oynatılmasını birleştirip ardından az bilinen kullanıcıları filtrelemek için kullanabiliriz. \n",
        "user_data_with_artist_plays = user_data.merge(artist_plays, left_on = 'artist-name', right_on = 'artist-name', how = 'left')"
      ],
      "execution_count": null,
      "outputs": []
    },
    {
      "cell_type": "code",
      "metadata": {
        "id": "NP_cdNktPzs_",
        "colab": {
          "base_uri": "https://localhost:8080/",
          "height": 204
        },
        "outputId": "f3b58698-013e-4cb7-8713-624b078cabb6"
      },
      "source": [
        "#birleştirdiğimiz verileri görüntülüyoruz.\n",
        "user_data_with_artist_plays.head()"
      ],
      "execution_count": null,
      "outputs": [
        {
          "output_type": "execute_result",
          "data": {
            "text/html": [
              "<div>\n",
              "<style scoped>\n",
              "    .dataframe tbody tr th:only-of-type {\n",
              "        vertical-align: middle;\n",
              "    }\n",
              "\n",
              "    .dataframe tbody tr th {\n",
              "        vertical-align: top;\n",
              "    }\n",
              "\n",
              "    .dataframe thead th {\n",
              "        text-align: right;\n",
              "    }\n",
              "</style>\n",
              "<table border=\"1\" class=\"dataframe\">\n",
              "  <thead>\n",
              "    <tr style=\"text-align: right;\">\n",
              "      <th></th>\n",
              "      <th>users</th>\n",
              "      <th>artist-name</th>\n",
              "      <th>plays</th>\n",
              "      <th>total_artist_plays</th>\n",
              "    </tr>\n",
              "  </thead>\n",
              "  <tbody>\n",
              "    <tr>\n",
              "      <th>0</th>\n",
              "      <td>00000c289a1829a808ac09c00daf10bc3c4e223b</td>\n",
              "      <td>betty blowtorch</td>\n",
              "      <td>2137.000</td>\n",
              "      <td>4242.000</td>\n",
              "    </tr>\n",
              "    <tr>\n",
              "      <th>1</th>\n",
              "      <td>00000c289a1829a808ac09c00daf10bc3c4e223b</td>\n",
              "      <td>die Ärzte</td>\n",
              "      <td>1099.000</td>\n",
              "      <td>189279.000</td>\n",
              "    </tr>\n",
              "    <tr>\n",
              "      <th>2</th>\n",
              "      <td>00000c289a1829a808ac09c00daf10bc3c4e223b</td>\n",
              "      <td>melissa etheridge</td>\n",
              "      <td>897.000</td>\n",
              "      <td>12162.000</td>\n",
              "    </tr>\n",
              "    <tr>\n",
              "      <th>3</th>\n",
              "      <td>00000c289a1829a808ac09c00daf10bc3c4e223b</td>\n",
              "      <td>elvenking</td>\n",
              "      <td>717.000</td>\n",
              "      <td>22405.000</td>\n",
              "    </tr>\n",
              "    <tr>\n",
              "      <th>4</th>\n",
              "      <td>00000c289a1829a808ac09c00daf10bc3c4e223b</td>\n",
              "      <td>juliette &amp; the licks</td>\n",
              "      <td>706.000</td>\n",
              "      <td>7043.000</td>\n",
              "    </tr>\n",
              "  </tbody>\n",
              "</table>\n",
              "</div>"
            ],
            "text/plain": [
              "                                      users  ... total_artist_plays\n",
              "0  00000c289a1829a808ac09c00daf10bc3c4e223b  ...           4242.000\n",
              "1  00000c289a1829a808ac09c00daf10bc3c4e223b  ...         189279.000\n",
              "2  00000c289a1829a808ac09c00daf10bc3c4e223b  ...          12162.000\n",
              "3  00000c289a1829a808ac09c00daf10bc3c4e223b  ...          22405.000\n",
              "4  00000c289a1829a808ac09c00daf10bc3c4e223b  ...           7043.000\n",
              "\n",
              "[5 rows x 4 columns]"
            ]
          },
          "metadata": {
            "tags": []
          },
          "execution_count": 10
        }
      ]
    },
    {
      "cell_type": "code",
      "metadata": {
        "id": "6hZAWhZkTLSF",
        "colab": {
          "base_uri": "https://localhost:8080/"
        },
        "outputId": "6b679735-3221-4990-d2e1-565e6ffbba11"
      },
      "source": [
        "#Popüler sanatçıları filtrelemek için eşik değeri seçmeliyiz. Bunun için istatistiklere bakıyoruz.\n",
        "print (artist_plays['total_artist_plays'].describe())"
      ],
      "execution_count": null,
      "outputs": [
        {
          "output_type": "stream",
          "text": [
            "count     81898.000\n",
            "mean       2762.867\n",
            "std       20973.231\n",
            "min           1.000\n",
            "25%          48.000\n",
            "50%         180.000\n",
            "75%         723.000\n",
            "max     1879749.000\n",
            "Name: total_artist_plays, dtype: float64\n"
          ],
          "name": "stdout"
        }
      ]
    },
    {
      "cell_type": "code",
      "metadata": {
        "id": "g3UtmY8eTfvz",
        "colab": {
          "base_uri": "https://localhost:8080/"
        },
        "outputId": "3ec20ea0-ebed-456d-82c7-bb18d71c3402"
      },
      "source": [
        "#dağılımın tepesine baktığımızda sanatçıların %1'nin 200 bin ve daha fazla dinlenilmeye sahip olduğunu görüyoruz.\n",
        "#2'sinin 80 bin ve %3'nün 40 bin veya daha fazlası olduğunu görüyoruz.\n",
        "print (artist_plays['total_artist_plays'].quantile(np.arange(.9, 1, .01)),)"
      ],
      "execution_count": null,
      "outputs": [
        {
          "output_type": "stream",
          "text": [
            "0.900    3077.000\n",
            "0.910    3598.270\n",
            "0.920    4217.960\n",
            "0.930    5057.050\n",
            "0.940    6265.900\n",
            "0.950    7908.600\n",
            "0.960   10380.240\n",
            "0.970   14801.180\n",
            "0.980   23337.540\n",
            "0.990   49888.560\n",
            "Name: total_artist_plays, dtype: float64\n"
          ],
          "name": "stdout"
        }
      ]
    },
    {
      "cell_type": "code",
      "metadata": {
        "id": "rWBNgLenQzuZ",
        "colab": {
          "base_uri": "https://localhost:8080/",
          "height": 204
        },
        "outputId": "42fed5c1-d68c-495a-e31d-d8243c99fe35"
      },
      "source": [
        "#Çok fazla sanatçı olduğu için %3 lük olan 40000lik sınır koyacağız. Bu keyfi bi değer ancak bize yaklaşık 9000 sanatçı verir.\n",
        "popularity_threshold = 40000\n",
        "user_data_and_popular_artists = user_data_with_artist_plays.query('total_artist_plays >= @popularity_threshold')\n",
        "user_data_and_popular_artists.head()"
      ],
      "execution_count": null,
      "outputs": [
        {
          "output_type": "execute_result",
          "data": {
            "text/html": [
              "<div>\n",
              "<style scoped>\n",
              "    .dataframe tbody tr th:only-of-type {\n",
              "        vertical-align: middle;\n",
              "    }\n",
              "\n",
              "    .dataframe tbody tr th {\n",
              "        vertical-align: top;\n",
              "    }\n",
              "\n",
              "    .dataframe thead th {\n",
              "        text-align: right;\n",
              "    }\n",
              "</style>\n",
              "<table border=\"1\" class=\"dataframe\">\n",
              "  <thead>\n",
              "    <tr style=\"text-align: right;\">\n",
              "      <th></th>\n",
              "      <th>users</th>\n",
              "      <th>artist-name</th>\n",
              "      <th>plays</th>\n",
              "      <th>total_artist_plays</th>\n",
              "    </tr>\n",
              "  </thead>\n",
              "  <tbody>\n",
              "    <tr>\n",
              "      <th>1</th>\n",
              "      <td>00000c289a1829a808ac09c00daf10bc3c4e223b</td>\n",
              "      <td>die Ärzte</td>\n",
              "      <td>1099.000</td>\n",
              "      <td>1460593.000</td>\n",
              "    </tr>\n",
              "    <tr>\n",
              "      <th>2</th>\n",
              "      <td>00000c289a1829a808ac09c00daf10bc3c4e223b</td>\n",
              "      <td>melissa etheridge</td>\n",
              "      <td>897.000</td>\n",
              "      <td>70504.000</td>\n",
              "    </tr>\n",
              "    <tr>\n",
              "      <th>3</th>\n",
              "      <td>00000c289a1829a808ac09c00daf10bc3c4e223b</td>\n",
              "      <td>elvenking</td>\n",
              "      <td>717.000</td>\n",
              "      <td>171740.000</td>\n",
              "    </tr>\n",
              "    <tr>\n",
              "      <th>5</th>\n",
              "      <td>00000c289a1829a808ac09c00daf10bc3c4e223b</td>\n",
              "      <td>red hot chili peppers</td>\n",
              "      <td>691.000</td>\n",
              "      <td>5355875.000</td>\n",
              "    </tr>\n",
              "    <tr>\n",
              "      <th>7</th>\n",
              "      <td>00000c289a1829a808ac09c00daf10bc3c4e223b</td>\n",
              "      <td>the black dahlia murder</td>\n",
              "      <td>507.000</td>\n",
              "      <td>399917.000</td>\n",
              "    </tr>\n",
              "  </tbody>\n",
              "</table>\n",
              "</div>"
            ],
            "text/plain": [
              "                                      users  ... total_artist_plays\n",
              "1  00000c289a1829a808ac09c00daf10bc3c4e223b  ...        1460593.000\n",
              "2  00000c289a1829a808ac09c00daf10bc3c4e223b  ...          70504.000\n",
              "3  00000c289a1829a808ac09c00daf10bc3c4e223b  ...         171740.000\n",
              "5  00000c289a1829a808ac09c00daf10bc3c4e223b  ...        5355875.000\n",
              "7  00000c289a1829a808ac09c00daf10bc3c4e223b  ...         399917.000\n",
              "\n",
              "[5 rows x 4 columns]"
            ]
          },
          "metadata": {
            "tags": []
          },
          "execution_count": 20
        }
      ]
    },
    {
      "cell_type": "code",
      "metadata": {
        "id": "OrGQEv_eU2AY",
        "colab": {
          "base_uri": "https://localhost:8080/",
          "height": 204
        },
        "outputId": "60bfea2c-27ea-4672-8deb-f7e75cde3b11"
      },
      "source": [
        "#Verilerimizi Türkiye verileri ile sınırladık. İlk olarak ülke bilgisi olan verilerle birleştirdik ve ardından Türkiye ile sınırladık.\n",
        "merged_file = user_data_and_popular_artists.merge(user_profiles, left_on = 'users', right_on = 'users', how = 'left')\n",
        "tr_data = merged_file.query('country == \\'Turkey\\'')\n",
        "tr_data.head()"
      ],
      "execution_count": null,
      "outputs": [
        {
          "output_type": "execute_result",
          "data": {
            "text/html": [
              "<div>\n",
              "<style scoped>\n",
              "    .dataframe tbody tr th:only-of-type {\n",
              "        vertical-align: middle;\n",
              "    }\n",
              "\n",
              "    .dataframe tbody tr th {\n",
              "        vertical-align: top;\n",
              "    }\n",
              "\n",
              "    .dataframe thead th {\n",
              "        text-align: right;\n",
              "    }\n",
              "</style>\n",
              "<table border=\"1\" class=\"dataframe\">\n",
              "  <thead>\n",
              "    <tr style=\"text-align: right;\">\n",
              "      <th></th>\n",
              "      <th>users</th>\n",
              "      <th>artist-name</th>\n",
              "      <th>plays</th>\n",
              "      <th>total_artist_plays</th>\n",
              "      <th>country</th>\n",
              "    </tr>\n",
              "  </thead>\n",
              "  <tbody>\n",
              "    <tr>\n",
              "      <th>3278</th>\n",
              "      <td>000fd8e3929fdab3c872a0c850fe4f3a3368af38</td>\n",
              "      <td>Şebnem ferah</td>\n",
              "      <td>1567.000</td>\n",
              "      <td>81730.000</td>\n",
              "      <td>Turkey</td>\n",
              "    </tr>\n",
              "    <tr>\n",
              "      <th>3279</th>\n",
              "      <td>000fd8e3929fdab3c872a0c850fe4f3a3368af38</td>\n",
              "      <td>duman</td>\n",
              "      <td>1538.000</td>\n",
              "      <td>109796.000</td>\n",
              "      <td>Turkey</td>\n",
              "    </tr>\n",
              "    <tr>\n",
              "      <th>3280</th>\n",
              "      <td>000fd8e3929fdab3c872a0c850fe4f3a3368af38</td>\n",
              "      <td>teoman</td>\n",
              "      <td>753.000</td>\n",
              "      <td>86371.000</td>\n",
              "      <td>Turkey</td>\n",
              "    </tr>\n",
              "    <tr>\n",
              "      <th>3281</th>\n",
              "      <td>000fd8e3929fdab3c872a0c850fe4f3a3368af38</td>\n",
              "      <td>anathema</td>\n",
              "      <td>680.000</td>\n",
              "      <td>1236177.000</td>\n",
              "      <td>Turkey</td>\n",
              "    </tr>\n",
              "    <tr>\n",
              "      <th>3282</th>\n",
              "      <td>000fd8e3929fdab3c872a0c850fe4f3a3368af38</td>\n",
              "      <td>apocalyptica</td>\n",
              "      <td>541.000</td>\n",
              "      <td>1298591.000</td>\n",
              "      <td>Turkey</td>\n",
              "    </tr>\n",
              "  </tbody>\n",
              "</table>\n",
              "</div>"
            ],
            "text/plain": [
              "                                         users  ... country\n",
              "3278  000fd8e3929fdab3c872a0c850fe4f3a3368af38  ...  Turkey\n",
              "3279  000fd8e3929fdab3c872a0c850fe4f3a3368af38  ...  Turkey\n",
              "3280  000fd8e3929fdab3c872a0c850fe4f3a3368af38  ...  Turkey\n",
              "3281  000fd8e3929fdab3c872a0c850fe4f3a3368af38  ...  Turkey\n",
              "3282  000fd8e3929fdab3c872a0c850fe4f3a3368af38  ...  Turkey\n",
              "\n",
              "[5 rows x 5 columns]"
            ]
          },
          "metadata": {
            "tags": []
          },
          "execution_count": 21
        }
      ]
    },
    {
      "cell_type": "code",
      "metadata": {
        "id": "ppwCJGdrU4vm",
        "colab": {
          "base_uri": "https://localhost:8080/"
        },
        "outputId": "c439fe08-9b0b-42ef-fe5f-c7240cb66eb4"
      },
      "source": [
        "#Her kullanıcı, her sanatçı için yalnızca bir kez oynatma sayısı değişkenine sahip olmalıdır. \n",
        "#Bu nedenle, satırların aynı kullanıcılara ve sanatçı adı değerlerine sahip olduğu durumları kontrol edeceğiz.\n",
        "if not tr_data[tr_data.duplicated(['users', 'artist-name'])].empty:\n",
        "    initial_rows = tr_data.shape[0]\n",
        "    \n",
        "    print ('Initial dataframe shape {0}'.format(tr_data.shape))\n",
        "    tr_data = tr_data.drop_duplicates(['users', 'artist-name'])\n",
        "    current_rows = tr_data.shape[0]\n",
        "    print ('New dataframe shape {0}'.format(tr_data.shape))\n",
        "    print ('Removed {0} rows'.format(initial_rows - current_rows))"
      ],
      "execution_count": null,
      "outputs": [
        {
          "output_type": "stream",
          "text": [
            "Initial dataframe shape (78457, 5)\n",
            "New dataframe shape (78456, 5)\n",
            "Removed 1 rows\n"
          ],
          "name": "stdout"
        }
      ]
    },
    {
      "cell_type": "code",
      "metadata": {
        "id": "q-Zz8xQLWVMm"
      },
      "source": [
        "#the Nearest Neighbor Model'inin uygulanması için verilerin yeniden şekillendirilmesini yapmalıyız.\n",
        "#Bunun için sanatçı ve kullanıcı bilgilerinin aynı array de olmasını istiyoruz.\n",
        "#Lineer cebir işlemleri yapacağımız için eksik yerleri 0 ile dolduracağız.\n",
        "big_artist_data = tr_data.pivot(index = 'artist-name', columns = 'users', values = 'plays').fillna(0)\n",
        "big_artist_data_sparse = csr_matrix(big_artist_data.values)"
      ],
      "execution_count": null,
      "outputs": []
    },
    {
      "cell_type": "code",
      "metadata": {
        "id": "KmO8Fum4jRct"
      },
      "source": [
        "#Daha verimli hesaplamalar için veri çerçevesinin değerlerini bir scipy sparse matrisine dönüştürüyoruz.\n",
        "from scipy.sparse import csr_matrix\n",
        "\n",
        "def save_sparse_csr(filename,array):\n",
        "    np.savez(filename,data = array.data ,indices=array.indices,\n",
        "             indptr =array.indptr, shape=array.shape )\n",
        "\n",
        "def load_sparse_csr(filename):\n",
        "    loader = np.load(filename)\n",
        "    return csr_matrix((loader['data'], loader['indices'], loader['indptr']),\n",
        "                         shape = loader['shape'])\n",
        "# modeli kaydediyoruz.\n",
        "save_sparse_csr('/content/lastfm_sparse_artist_matrix.npz', big_artist_data_sparse)"
      ],
      "execution_count": null,
      "outputs": []
    },
    {
      "cell_type": "code",
      "metadata": {
        "id": "Y1OiudSYWtWH",
        "colab": {
          "base_uri": "https://localhost:8080/"
        },
        "outputId": "38cf44fa-2cb6-42b4-89c6-cd3bef152b01"
      },
      "source": [
        "#model_knn olarak sınıfımızı başlatacağız ve sparse matrisimizi fit ettik.\n",
        "from sklearn.neighbors import NearestNeighbors\n",
        "#metrik olarak kosinüs benzerliğini kullandık.Kosinüs benzerliğini kullanarak sanatçı vektörleri arasındaki benzerliği ölçecektir.\n",
        "#brute algoritmasını kullandık çünkü bir problemin çözümü aşamasında, kabul edilebilir bir çözüm elde edene kadar tüm olasılıkları deneyen algoritmadır.\n",
        "model_knn = NearestNeighbors(metric = 'cosine', algorithm = 'brute')\n",
        "model_knn.fit(big_artist_data_sparse)"
      ],
      "execution_count": null,
      "outputs": [
        {
          "output_type": "execute_result",
          "data": {
            "text/plain": [
              "NearestNeighbors(algorithm='brute', leaf_size=30, metric='cosine',\n",
              "                 metric_params=None, n_jobs=None, n_neighbors=5, p=2,\n",
              "                 radius=1.0)"
            ]
          },
          "metadata": {
            "tags": []
          },
          "execution_count": 25
        }
      ]
    },
    {
      "cell_type": "code",
      "metadata": {
        "id": "7oROquR-aQq_",
        "colab": {
          "base_uri": "https://localhost:8080/"
        },
        "outputId": "d964485a-8dd3-46d0-ab59-ca119c90a0fe"
      },
      "source": [
        "#Öneri de bulunmaya başladık ve 1 şarkıcı için 5 öneride bulunduk.\n",
        "query_index = np.random.choice(big_artist_data.shape[0])\n",
        "print (query_index)\n",
        "distances, indices = model_knn.kneighbors(big_artist_data.iloc[query_index, :].values.reshape(1, -1), n_neighbors = 6)\n",
        "\n",
        "for i in range(0, len(distances.flatten())):\n",
        "    if i == 0:\n",
        "        print (' {0} için yeni öneriler :\\n '.format(big_artist_data.index[query_index]))\n",
        "    else:\n",
        "        print ('{0}: {1},kosinüs uzaklığı  {2}:'.format(i, big_artist_data.index[indices.flatten()[i]], distances.flatten()[i]))\n",
        "\n",
        "  #random bir index seçerek kullanıcı seçiyoruz ve onun için öneride bulunuyoruz."
      ],
      "execution_count": null,
      "outputs": [
        {
          "output_type": "stream",
          "text": [
            "1607\n",
            " idlewild için yeni öneriler :\n",
            " \n",
            "1: sugarcult,kosinüs uzaklığı  0.16794970566215628:\n",
            "2: ben lee,kosinüs uzaklığı  0.16794970566215628:\n",
            "3: orson,kosinüs uzaklığı  0.7368825942078912:\n",
            "4: the sugarcubes,kosinüs uzaklığı  0.9539864142406336:\n",
            "5: embrace,kosinüs uzaklığı  0.9699220724127792:\n"
          ],
          "name": "stdout"
        }
      ]
    },
    {
      "cell_type": "code",
      "metadata": {
        "id": "jQWCifUIB9rh"
      },
      "source": [
        "#burada her vektörü ikili dosyaya dönüştürdük yani 0 veya 1 e. Bunun anlamı bir kullanıcı bir şarkıyı oynattı veya oynatmadı anlamındadır.\n",
        "#veri çerçevesindeki her sütuna numpy'deki sign fonksiyonunu uygulayarak yaptık.\n",
        "big_artist_data_zero_one = big_artist_data.apply(np.sign)\n",
        "big_artist_data_zero_one_sparse = csr_matrix(big_artist_data_zero_one.values)\n",
        "\n",
        "save_sparse_csr('/content/lastfm_sparse_artist_matrix_binary.npz', big_artist_data_zero_one_sparse)"
      ],
      "execution_count": null,
      "outputs": []
    },
    {
      "cell_type": "code",
      "metadata": {
        "id": "EiIOZBtyB6he",
        "colab": {
          "base_uri": "https://localhost:8080/"
        },
        "outputId": "aba17e31-849e-49ae-dfca-2847152a96d8"
      },
      "source": [
        "#Burada da kosinüs benzerliğini kullanıyoruz ve modeli fit ediyoruz.\n",
        "model_nn_binary = NearestNeighbors(metric='cosine', algorithm='brute')\n",
        "model_nn_binary.fit(big_artist_data_zero_one_sparse)"
      ],
      "execution_count": null,
      "outputs": [
        {
          "output_type": "execute_result",
          "data": {
            "text/plain": [
              "NearestNeighbors(algorithm='brute', leaf_size=30, metric='cosine',\n",
              "                 metric_params=None, n_jobs=None, n_neighbors=5, p=2,\n",
              "                 radius=1.0)"
            ]
          },
          "metadata": {
            "tags": []
          },
          "execution_count": 28
        }
      ]
    },
    {
      "cell_type": "code",
      "metadata": {
        "id": "T0BjUTVmCKLR",
        "colab": {
          "base_uri": "https://localhost:8080/"
        },
        "outputId": "b3393788-550c-4e0a-9f01-d65fdeb46a86"
      },
      "source": [
        "#yukarıdaki önerilerde karşılatırdığımızda gayet iyi duruyor.\n",
        "distances, indices = model_nn_binary.kneighbors(big_artist_data_zero_one.iloc[query_index, :].values.reshape(1, -1), n_neighbors = 6)\n",
        "for i in range(0, len(distances.flatten())):\n",
        "    if i == 0:\n",
        "        print ('İkili oynatma verileriyle {0} için öneriler:\\n'.format(big_artist_data_zero_one.index[query_index]))\n",
        "    else:\n",
        "        print ('{0}: {1}, için kosinüs uzaklığı {2}:'.format(i, big_artist_data_zero_one.index[indices.flatten()[i]], distances.flatten()[i]))"
      ],
      "execution_count": null,
      "outputs": [
        {
          "output_type": "stream",
          "text": [
            "İkili oynatma verileriyle idlewild için öneriler:\n",
            "\n",
            "1: ben lee, için kosinüs uzaklığı 0.29289321881345254:\n",
            "2: sugarcult, için kosinüs uzaklığı 0.29289321881345254:\n",
            "3: orson, için kosinüs uzaklığı 0.5000000000000001:\n",
            "4: good shoes, için kosinüs uzaklığı 0.591751709536137:\n",
            "5: the go! team, için kosinüs uzaklığı 0.591751709536137:\n"
          ],
          "name": "stdout"
        }
      ]
    },
    {
      "cell_type": "code",
      "metadata": {
        "id": "cnnMXNAMCrNU"
      },
      "source": [
        "pip install fuzzywuzzy"
      ],
      "execution_count": null,
      "outputs": []
    },
    {
      "cell_type": "code",
      "metadata": {
        "id": "Ref_cZ5cCX5S",
        "colab": {
          "base_uri": "https://localhost:8080/"
        },
        "outputId": "f222d9e9-aa04-4d44-9c9a-9135f7cb3ecc"
      },
      "source": [
        "#fuzzywuzzy kütüphanesini kullandık. Daha önceden sanatçıları rastgele seçiyorduk. Şimdi belirli bir kullanıcı için önerilerde bulunacağız.\n",
        "#bazı kullanıcıların adları yanlış yazılmış olabilir bunun için de fuzzywuzzy kütüphanesini dahil ediyoruz.\n",
        "from fuzzywuzzy import fuzz\n",
        "\n",
        "def print_artist_recommendations(query_artist, artist_plays_matrix, knn_model, k):\n",
        "    query_index = None\n",
        "    ratio_tuples = []\n",
        "    \n",
        "    for i in artist_plays_matrix.index:\n",
        "        ratio = fuzz.ratio(i.lower(), query_artist.lower())\n",
        "        if ratio >= 75:\n",
        "            current_query_index = artist_plays_matrix.index.tolist().index(i)\n",
        "            ratio_tuples.append((i, ratio, current_query_index))\n",
        "    \n",
        "    print ('Olası Eşleşmeler: {0}\\n'.format([(x[0], x[1]) for x in ratio_tuples]))\n",
        "    \n",
        "    try:\n",
        "        query_index = max(ratio_tuples, key = lambda x: x[1])[2] # get the index of the best artist match in the data\n",
        "    except:\n",
        "        print ('Sanatçınız verilerdeki hiçbir sanatçıyla eşleşmedi. Tekrar deneyin')\n",
        "        return None\n",
        "    \n",
        "    distances, indices = knn_model.kneighbors(artist_plays_matrix.iloc[query_index, :].values.reshape(1, -1), n_neighbors = k + 1)\n",
        "\n",
        "    for i in range(0, len(distances.flatten())):\n",
        "        if i == 0:\n",
        "            print ('{0} için yeni öneriler:\\n'.format(artist_plays_matrix.index[query_index]))\n",
        "        else:\n",
        "            print ('{0}: {1}, için kosinüs uzaklığı {2}:'.format(i, artist_plays_matrix.index[indices.flatten()[i]], distances.flatten()[i]))\n",
        "\n",
        "    return None"
      ],
      "execution_count": null,
      "outputs": [
        {
          "output_type": "stream",
          "text": [
            "/usr/local/lib/python3.7/dist-packages/fuzzywuzzy/fuzz.py:11: UserWarning: Using slow pure-python SequenceMatcher. Install python-Levenshtein to remove this warning\n",
            "  warnings.warn('Using slow pure-python SequenceMatcher. Install python-Levenshtein to remove this warning')\n"
          ],
          "name": "stderr"
        }
      ]
    },
    {
      "cell_type": "code",
      "metadata": {
        "id": "Q9ADraKBCv_F",
        "colab": {
          "base_uri": "https://localhost:8080/"
        },
        "outputId": "86892b26-fd0c-4ed1-a240-ea9d090c3854"
      },
      "source": [
        "#'red hot chili peppers' için k=10'luk öneri alıyoruz.\n",
        "print_artist_recommendations('red hot chili peppers', big_artist_data_zero_one, model_nn_binary, k = 10)"
      ],
      "execution_count": null,
      "outputs": [
        {
          "output_type": "stream",
          "text": [
            "Olası Eşleşmeler: [('red hot chili peppers', 100)]\n",
            "\n",
            "red hot chili peppers için yeni öneriler:\n",
            "\n",
            "1: metallica, için kosinüs uzaklığı 0.6565921932067285:\n",
            "2: coldplay, için kosinüs uzaklığı 0.6606668043642854:\n",
            "3: muse, için kosinüs uzaklığı 0.6615977671877236:\n",
            "4: radiohead, için kosinüs uzaklığı 0.6840493752268497:\n",
            "5: nirvana, için kosinüs uzaklığı 0.6854287390239289:\n",
            "6: placebo, için kosinüs uzaklığı 0.6951077306168734:\n",
            "7: duman, için kosinüs uzaklığı 0.7190288777230528:\n",
            "8: pink floyd, için kosinüs uzaklığı 0.7235309621440291:\n",
            "9: travis, için kosinüs uzaklığı 0.7358191851026654:\n",
            "10: incubus, için kosinüs uzaklığı 0.7382123394736754:\n"
          ],
          "name": "stdout"
        }
      ]
    },
    {
      "cell_type": "code",
      "metadata": {
        "id": "q_uPnINFC3Ez",
        "colab": {
          "base_uri": "https://localhost:8080/"
        },
        "outputId": "ab6419cf-e283-403f-8c4f-d4ef74b39e13"
      },
      "source": [
        "print_artist_recommendations('arctic monkeys', big_artist_data_zero_one, model_nn_binary, k = 10)"
      ],
      "execution_count": null,
      "outputs": [
        {
          "output_type": "stream",
          "text": [
            "Olası Eşleşmeler: [('arctic monkeys', 100)]\n",
            "\n",
            "arctic monkeys için yeni öneriler:\n",
            "\n",
            "1: radiohead, için kosinüs uzaklığı 0.6913580246913584:\n",
            "2: the kooks, için kosinüs uzaklığı 0.700657829955375:\n",
            "3: bloc party, için kosinüs uzaklığı 0.7031897461686099:\n",
            "4: the strokes, için kosinüs uzaklığı 0.7077351336793647:\n",
            "5: kaiser chiefs, için kosinüs uzaklığı 0.7151931020220849:\n",
            "6: muse, için kosinüs uzaklığı 0.7214985272629724:\n",
            "7: the last shadow puppets, için kosinüs uzaklığı 0.7327387580875755:\n",
            "8: coldplay, için kosinüs uzaklığı 0.7348130762798839:\n",
            "9: interpol, için kosinüs uzaklığı 0.7380952380952381:\n",
            "10: the killers, için kosinüs uzaklığı 0.7389948674167686:\n"
          ],
          "name": "stdout"
        }
      ]
    },
    {
      "cell_type": "code",
      "metadata": {
        "id": "mQ7J1u4cC5lW",
        "colab": {
          "base_uri": "https://localhost:8080/"
        },
        "outputId": "289a8edc-b8f7-4a5e-9551-082858cb2122"
      },
      "source": [
        "print_artist_recommendations('Manga', big_artist_data_zero_one, model_nn_binary, k = 10)"
      ],
      "execution_count": null,
      "outputs": [
        {
          "output_type": "stream",
          "text": [
            "Olası Eşleşmeler: [('angra', 80)]\n",
            "\n",
            "angra için yeni öneriler:\n",
            "\n",
            "1: royal hunt, için kosinüs uzaklığı 0.7817821097640076:\n",
            "2: freedom call, için kosinüs uzaklığı 0.7958758547680684:\n",
            "3: primal fear, için kosinüs uzaklığı 0.7958758547680684:\n",
            "4: grave digger, için kosinüs uzaklığı 0.7958758547680684:\n",
            "5: steve jablonsky, için kosinüs uzaklığı 0.7958758547680684:\n",
            "6: luca turilli, için kosinüs uzaklığı 0.7958758547680684:\n",
            "7: korpiklaani, için kosinüs uzaklığı 0.7989924369481576:\n",
            "8: leaves eyes, için kosinüs uzaklığı 0.8075499102701247:\n",
            "9: yngwie malmsteen, için kosinüs uzaklığı 0.8194212203713461:\n",
            "10: eloy, için kosinüs uzaklığı 0.823223304703363:\n"
          ],
          "name": "stdout"
        }
      ]
    },
    {
      "cell_type": "code",
      "metadata": {
        "id": "AMTrjBJFC8q1",
        "colab": {
          "base_uri": "https://localhost:8080/"
        },
        "outputId": "364d4bdc-3823-46f1-ce79-99b0ea3e8804"
      },
      "source": [
        "print_artist_recommendations('shakira', big_artist_data_zero_one, model_nn_binary, k = 10)"
      ],
      "execution_count": null,
      "outputs": [
        {
          "output_type": "stream",
          "text": [
            "Olası Eşleşmeler: [('shakira', 100)]\n",
            "\n",
            "shakira için yeni öneriler:\n",
            "\n",
            "1: jennifer lopez, için kosinüs uzaklığı 0.7525433011337839:\n",
            "2: paulina rubio, için kosinüs uzaklığı 0.7705842661294382:\n",
            "3: kat deluna, için kosinüs uzaklığı 0.78370477182565:\n",
            "4: gwen stefani, için kosinüs uzaklığı 0.78370477182565:\n",
            "5: beyoncé, için kosinüs uzaklığı 0.7888553970766639:\n",
            "6: justin timberlake, için kosinüs uzaklığı 0.7992176555769236:\n",
            "7: ricky martin, için kosinüs uzaklığı 0.8013201464402434:\n",
            "8: britney spears, için kosinüs uzaklığı 0.8109239525010237:\n",
            "9: anastacia, için kosinüs uzaklığı 0.8192574300613666:\n",
            "10: enrique iglesias, için kosinüs uzaklığı 0.8229498680429574:\n"
          ],
          "name": "stdout"
        }
      ]
    },
    {
      "cell_type": "code",
      "metadata": {
        "id": "eGiB1KNgDA2x",
        "colab": {
          "base_uri": "https://localhost:8080/"
        },
        "outputId": "b2d82ffc-0981-4bb4-c636-40943d540bba"
      },
      "source": [
        "#Fulya \n",
        "print_artist_recommendations('the beatles', big_artist_data_zero_one, model_nn_binary, k = 10)"
      ],
      "execution_count": null,
      "outputs": [
        {
          "output_type": "stream",
          "text": [
            "Olası Eşleşmeler: [('the beatles', 100), ('the meters', 76)]\n",
            "\n",
            "the beatles için yeni öneriler:\n",
            "\n",
            "1: pink floyd, için kosinüs uzaklığı 0.6309286403693618:\n",
            "2: the rolling stones, için kosinüs uzaklığı 0.6544249427861015:\n",
            "3: bob dylan, için kosinüs uzaklığı 0.6684451511730491:\n",
            "4: led zeppelin, için kosinüs uzaklığı 0.669209501527843:\n",
            "5: the doors, için kosinüs uzaklığı 0.6732079697383885:\n",
            "6: radiohead, için kosinüs uzaklığı 0.6737626494124693:\n",
            "7: queen, için kosinüs uzaklığı 0.7286550164440131:\n",
            "8: nirvana, için kosinüs uzaklığı 0.7291724755967115:\n",
            "9: coldplay, için kosinüs uzaklığı 0.7306626420604123:\n",
            "10: john lennon, için kosinüs uzaklığı 0.7502361761334155:\n"
          ],
          "name": "stdout"
        }
      ]
    },
    {
      "cell_type": "code",
      "metadata": {
        "id": "dXME4_jVC9lt"
      },
      "source": [
        "import numpy as np\n",
        "import pandas as pd\n",
        "import matplotlib.pyplot as plt\n",
        "import seaborn as sns"
      ],
      "execution_count": null,
      "outputs": []
    },
    {
      "cell_type": "code",
      "metadata": {
        "id": "4ZUA7URzFqw0"
      },
      "source": [
        "from scipy.sparse import csr_matrix"
      ],
      "execution_count": null,
      "outputs": []
    },
    {
      "cell_type": "code",
      "metadata": {
        "id": "xgC70qUmF8AQ",
        "colab": {
          "base_uri": "https://localhost:8080/"
        },
        "outputId": "6875018c-305a-4cea-e90a-fe7d00b63650"
      },
      "source": [
        "pip install scikit-surprise"
      ],
      "execution_count": null,
      "outputs": [
        {
          "output_type": "stream",
          "text": [
            "Collecting scikit-surprise\n",
            "\u001b[?25l  Downloading https://files.pythonhosted.org/packages/97/37/5d334adaf5ddd65da99fc65f6507e0e4599d092ba048f4302fe8775619e8/scikit-surprise-1.1.1.tar.gz (11.8MB)\n",
            "\u001b[K     |████████████████████████████████| 11.8MB 253kB/s \n",
            "\u001b[?25hRequirement already satisfied: joblib>=0.11 in /usr/local/lib/python3.7/dist-packages (from scikit-surprise) (1.0.1)\n",
            "Requirement already satisfied: numpy>=1.11.2 in /usr/local/lib/python3.7/dist-packages (from scikit-surprise) (1.19.5)\n",
            "Requirement already satisfied: scipy>=1.0.0 in /usr/local/lib/python3.7/dist-packages (from scikit-surprise) (1.4.1)\n",
            "Requirement already satisfied: six>=1.10.0 in /usr/local/lib/python3.7/dist-packages (from scikit-surprise) (1.15.0)\n",
            "Building wheels for collected packages: scikit-surprise\n",
            "  Building wheel for scikit-surprise (setup.py) ... \u001b[?25l\u001b[?25hdone\n",
            "  Created wheel for scikit-surprise: filename=scikit_surprise-1.1.1-cp37-cp37m-linux_x86_64.whl size=1617633 sha256=51dfe2dd7f9e6de6b8eb9c68123f25a22e569cb0cbb6ff54a25b327a4be0288d\n",
            "  Stored in directory: /root/.cache/pip/wheels/78/9c/3d/41b419c9d2aff5b6e2b4c0fc8d25c538202834058f9ed110d0\n",
            "Successfully built scikit-surprise\n",
            "Installing collected packages: scikit-surprise\n",
            "Successfully installed scikit-surprise-1.1.1\n"
          ],
          "name": "stdout"
        }
      ]
    },
    {
      "cell_type": "code",
      "metadata": {
        "id": "13PbIk_vFuJX"
      },
      "source": [
        "#Gerekli kütüphaneleri yüklüyoruz. Projenin ilerisinde Suprise kütüphanesini kullanacağımız için gerekli kütüphaneleri import ediyoruz.\n",
        "from surprise import SVD\n",
        "from surprise import Dataset, Reader\n",
        "from surprise import accuracy\n",
        "from surprise.model_selection import train_test_split\n",
        "from surprise.model_selection import GridSearchCV\n",
        "from surprise.model_selection import cross_validate"
      ],
      "execution_count": null,
      "outputs": []
    },
    {
      "cell_type": "code",
      "metadata": {
        "id": "Y8OGwlkIF-xP"
      },
      "source": [
        "#10000'lik verisetini yüklüyoruz. İçeriğinde userid, songid ve listen_count bilgileri bulunmakta.\n",
        "song_about = pd.read_csv('/content/10000.txt',sep='\\t',header=None)\n",
        "song_about.columns = ['user_id', 'song_id', 'listen_count']\n",
        "\n",
        "#şarkı verilerin olduğu dosyayı yüklüyoruz.\n",
        "song_real =  pd.read_csv('/content/song_data.csv')\n",
        "song_real.drop_duplicates(['song_id'], inplace=True)\n",
        "\n",
        "#ve iki dosya verilerini song_id adında birleştiriyoruz.\n",
        "all_file = pd.merge(song_about, song_real, on=\"song_id\", how=\"left\")"
      ],
      "execution_count": null,
      "outputs": []
    },
    {
      "cell_type": "code",
      "metadata": {
        "id": "jsWEt_x-FuvI",
        "colab": {
          "base_uri": "https://localhost:8080/",
          "height": 204
        },
        "outputId": "136f8c2e-8b94-4d56-b540-edef470c13c0"
      },
      "source": [
        "#all_file değişkeninde  birleştirdiğimiz verilerimizi görüntülüyoruz.\n",
        "all_file.head()"
      ],
      "execution_count": null,
      "outputs": [
        {
          "output_type": "execute_result",
          "data": {
            "text/html": [
              "<div>\n",
              "<style scoped>\n",
              "    .dataframe tbody tr th:only-of-type {\n",
              "        vertical-align: middle;\n",
              "    }\n",
              "\n",
              "    .dataframe tbody tr th {\n",
              "        vertical-align: top;\n",
              "    }\n",
              "\n",
              "    .dataframe thead th {\n",
              "        text-align: right;\n",
              "    }\n",
              "</style>\n",
              "<table border=\"1\" class=\"dataframe\">\n",
              "  <thead>\n",
              "    <tr style=\"text-align: right;\">\n",
              "      <th></th>\n",
              "      <th>user_id</th>\n",
              "      <th>song_id</th>\n",
              "      <th>listen_count</th>\n",
              "      <th>title</th>\n",
              "      <th>release</th>\n",
              "      <th>artist_name</th>\n",
              "      <th>year</th>\n",
              "    </tr>\n",
              "  </thead>\n",
              "  <tbody>\n",
              "    <tr>\n",
              "      <th>0</th>\n",
              "      <td>b80344d063b5ccb3212f76538f3d9e43d87dca9e</td>\n",
              "      <td>SOAKIMP12A8C130995</td>\n",
              "      <td>1</td>\n",
              "      <td>The Cove</td>\n",
              "      <td>Thicker Than Water</td>\n",
              "      <td>Jack Johnson</td>\n",
              "      <td>0</td>\n",
              "    </tr>\n",
              "    <tr>\n",
              "      <th>1</th>\n",
              "      <td>b80344d063b5ccb3212f76538f3d9e43d87dca9e</td>\n",
              "      <td>SOBBMDR12A8C13253B</td>\n",
              "      <td>2</td>\n",
              "      <td>Entre Dos Aguas</td>\n",
              "      <td>Flamenco Para Niños</td>\n",
              "      <td>Paco De Lucia</td>\n",
              "      <td>1976</td>\n",
              "    </tr>\n",
              "    <tr>\n",
              "      <th>2</th>\n",
              "      <td>b80344d063b5ccb3212f76538f3d9e43d87dca9e</td>\n",
              "      <td>SOBXHDL12A81C204C0</td>\n",
              "      <td>1</td>\n",
              "      <td>Stronger</td>\n",
              "      <td>Graduation</td>\n",
              "      <td>Kanye West</td>\n",
              "      <td>2007</td>\n",
              "    </tr>\n",
              "    <tr>\n",
              "      <th>3</th>\n",
              "      <td>b80344d063b5ccb3212f76538f3d9e43d87dca9e</td>\n",
              "      <td>SOBYHAJ12A6701BF1D</td>\n",
              "      <td>1</td>\n",
              "      <td>Constellations</td>\n",
              "      <td>In Between Dreams</td>\n",
              "      <td>Jack Johnson</td>\n",
              "      <td>2005</td>\n",
              "    </tr>\n",
              "    <tr>\n",
              "      <th>4</th>\n",
              "      <td>b80344d063b5ccb3212f76538f3d9e43d87dca9e</td>\n",
              "      <td>SODACBL12A8C13C273</td>\n",
              "      <td>1</td>\n",
              "      <td>Learn To Fly</td>\n",
              "      <td>There Is Nothing Left To Lose</td>\n",
              "      <td>Foo Fighters</td>\n",
              "      <td>1999</td>\n",
              "    </tr>\n",
              "  </tbody>\n",
              "</table>\n",
              "</div>"
            ],
            "text/plain": [
              "                                    user_id  ...  year\n",
              "0  b80344d063b5ccb3212f76538f3d9e43d87dca9e  ...     0\n",
              "1  b80344d063b5ccb3212f76538f3d9e43d87dca9e  ...  1976\n",
              "2  b80344d063b5ccb3212f76538f3d9e43d87dca9e  ...  2007\n",
              "3  b80344d063b5ccb3212f76538f3d9e43d87dca9e  ...  2005\n",
              "4  b80344d063b5ccb3212f76538f3d9e43d87dca9e  ...  1999\n",
              "\n",
              "[5 rows x 7 columns]"
            ]
          },
          "metadata": {
            "tags": []
          },
          "execution_count": 42
        }
      ]
    },
    {
      "cell_type": "code",
      "metadata": {
        "id": "snEW0yx4L2pF"
      },
      "source": [
        "#ve birleştirdiğimiz dosyaları .csv formatında kaydediyoruz.\n",
        "all_file.to_csv('all_file.csv', index=False)"
      ],
      "execution_count": null,
      "outputs": []
    },
    {
      "cell_type": "code",
      "metadata": {
        "id": "YG89oIqgL45h"
      },
      "source": [
        "#kaydettiğimiz veriyi df_all_file değişkenine atıyoruz ve çekiyoruz.\n",
        "df_all_file = pd.read_csv('all_file.csv')"
      ],
      "execution_count": null,
      "outputs": []
    },
    {
      "cell_type": "code",
      "metadata": {
        "id": "U0WrUHLtL8FJ",
        "colab": {
          "base_uri": "https://localhost:8080/",
          "height": 204
        },
        "outputId": "59bc2543-efe1-4b03-a198-2d12d68423da"
      },
      "source": [
        "#verimizi görüntülüyoruz.\n",
        "df_all_file.head()"
      ],
      "execution_count": null,
      "outputs": [
        {
          "output_type": "execute_result",
          "data": {
            "text/html": [
              "<div>\n",
              "<style scoped>\n",
              "    .dataframe tbody tr th:only-of-type {\n",
              "        vertical-align: middle;\n",
              "    }\n",
              "\n",
              "    .dataframe tbody tr th {\n",
              "        vertical-align: top;\n",
              "    }\n",
              "\n",
              "    .dataframe thead th {\n",
              "        text-align: right;\n",
              "    }\n",
              "</style>\n",
              "<table border=\"1\" class=\"dataframe\">\n",
              "  <thead>\n",
              "    <tr style=\"text-align: right;\">\n",
              "      <th></th>\n",
              "      <th>user_id</th>\n",
              "      <th>song_id</th>\n",
              "      <th>listen_count</th>\n",
              "      <th>title</th>\n",
              "      <th>release</th>\n",
              "      <th>artist_name</th>\n",
              "      <th>year</th>\n",
              "    </tr>\n",
              "  </thead>\n",
              "  <tbody>\n",
              "    <tr>\n",
              "      <th>0</th>\n",
              "      <td>b80344d063b5ccb3212f76538f3d9e43d87dca9e</td>\n",
              "      <td>SOAKIMP12A8C130995</td>\n",
              "      <td>1</td>\n",
              "      <td>The Cove</td>\n",
              "      <td>Thicker Than Water</td>\n",
              "      <td>Jack Johnson</td>\n",
              "      <td>0</td>\n",
              "    </tr>\n",
              "    <tr>\n",
              "      <th>1</th>\n",
              "      <td>b80344d063b5ccb3212f76538f3d9e43d87dca9e</td>\n",
              "      <td>SOBBMDR12A8C13253B</td>\n",
              "      <td>2</td>\n",
              "      <td>Entre Dos Aguas</td>\n",
              "      <td>Flamenco Para Niños</td>\n",
              "      <td>Paco De Lucia</td>\n",
              "      <td>1976</td>\n",
              "    </tr>\n",
              "    <tr>\n",
              "      <th>2</th>\n",
              "      <td>b80344d063b5ccb3212f76538f3d9e43d87dca9e</td>\n",
              "      <td>SOBXHDL12A81C204C0</td>\n",
              "      <td>1</td>\n",
              "      <td>Stronger</td>\n",
              "      <td>Graduation</td>\n",
              "      <td>Kanye West</td>\n",
              "      <td>2007</td>\n",
              "    </tr>\n",
              "    <tr>\n",
              "      <th>3</th>\n",
              "      <td>b80344d063b5ccb3212f76538f3d9e43d87dca9e</td>\n",
              "      <td>SOBYHAJ12A6701BF1D</td>\n",
              "      <td>1</td>\n",
              "      <td>Constellations</td>\n",
              "      <td>In Between Dreams</td>\n",
              "      <td>Jack Johnson</td>\n",
              "      <td>2005</td>\n",
              "    </tr>\n",
              "    <tr>\n",
              "      <th>4</th>\n",
              "      <td>b80344d063b5ccb3212f76538f3d9e43d87dca9e</td>\n",
              "      <td>SODACBL12A8C13C273</td>\n",
              "      <td>1</td>\n",
              "      <td>Learn To Fly</td>\n",
              "      <td>There Is Nothing Left To Lose</td>\n",
              "      <td>Foo Fighters</td>\n",
              "      <td>1999</td>\n",
              "    </tr>\n",
              "  </tbody>\n",
              "</table>\n",
              "</div>"
            ],
            "text/plain": [
              "                                    user_id  ...  year\n",
              "0  b80344d063b5ccb3212f76538f3d9e43d87dca9e  ...     0\n",
              "1  b80344d063b5ccb3212f76538f3d9e43d87dca9e  ...  1976\n",
              "2  b80344d063b5ccb3212f76538f3d9e43d87dca9e  ...  2007\n",
              "3  b80344d063b5ccb3212f76538f3d9e43d87dca9e  ...  2005\n",
              "4  b80344d063b5ccb3212f76538f3d9e43d87dca9e  ...  1999\n",
              "\n",
              "[5 rows x 7 columns]"
            ]
          },
          "metadata": {
            "tags": []
          },
          "execution_count": 45
        }
      ]
    },
    {
      "cell_type": "code",
      "metadata": {
        "id": "oUxGneIeL_um",
        "colab": {
          "base_uri": "https://localhost:8080/"
        },
        "outputId": "535b5c62-4fea-4552-d1b0-78d6152aaaaf"
      },
      "source": [
        "#Verisetimizde kaç tane observation var ona bakıyoruz.\n",
        "print(f\"Veri kümesinde {df_all_file.shape[0]} gözlem var.\")"
      ],
      "execution_count": null,
      "outputs": [
        {
          "output_type": "stream",
          "text": [
            "Veri kümesinde 2000000 gözlem var.\n"
          ],
          "name": "stdout"
        }
      ]
    },
    {
      "cell_type": "code",
      "metadata": {
        "id": "Mhml7wp5MGWq",
        "colab": {
          "base_uri": "https://localhost:8080/"
        },
        "outputId": "2a1f5131-3267-43f2-e7cf-52f1852db143"
      },
      "source": [
        "#Verisetimizde kayıp değer olmadığına bakıyoruz.\n",
        "df_all_file.isnull().sum()"
      ],
      "execution_count": null,
      "outputs": [
        {
          "output_type": "execute_result",
          "data": {
            "text/plain": [
              "user_id         0\n",
              "song_id         0\n",
              "listen_count    0\n",
              "title           0\n",
              "release         0\n",
              "artist_name     0\n",
              "year            0\n",
              "dtype: int64"
            ]
          },
          "metadata": {
            "tags": []
          },
          "execution_count": 47
        }
      ]
    },
    {
      "cell_type": "code",
      "metadata": {
        "id": "Ihq-yGRAMJQr",
        "colab": {
          "base_uri": "https://localhost:8080/"
        },
        "outputId": "74a7c3a6-000d-4820-fc47-b2ab83ddb17c"
      },
      "source": [
        "#verisetimizdeki verilerin tipine bakıyoruz. Çoğu sütun string tipinde.\n",
        "df_all_file.dtypes"
      ],
      "execution_count": null,
      "outputs": [
        {
          "output_type": "execute_result",
          "data": {
            "text/plain": [
              "user_id         object\n",
              "song_id         object\n",
              "listen_count     int64\n",
              "title           object\n",
              "release         object\n",
              "artist_name     object\n",
              "year             int64\n",
              "dtype: object"
            ]
          },
          "metadata": {
            "tags": []
          },
          "execution_count": 48
        }
      ]
    },
    {
      "cell_type": "code",
      "metadata": {
        "id": "iVzkAW77MJ8s",
        "colab": {
          "base_uri": "https://localhost:8080/"
        },
        "outputId": "c7477bbf-3efa-4a1b-afff-1f00abacf0ef"
      },
      "source": [
        "#Verisetimzideki benzersiz şarkılara bakıyoruz.\n",
        "unique_songs = df_all_file['title'].unique().shape[0]\n",
        "print(f\"Veri kümesinde {unique_songs} eşsiz şarkı var.\")"
      ],
      "execution_count": null,
      "outputs": [
        {
          "output_type": "stream",
          "text": [
            "Veri kümesinde 9567 eşsiz şarkı var.\n"
          ],
          "name": "stdout"
        }
      ]
    },
    {
      "cell_type": "code",
      "metadata": {
        "id": "kmRG7WFeML6l",
        "colab": {
          "base_uri": "https://localhost:8080/"
        },
        "outputId": "e7569372-38ec-428c-d5df-b7429e2ae345"
      },
      "source": [
        "#Verisetimizdeki benzersiz artistlere yani şarkıcılara bakıyoruz.\n",
        "unique_artists = df_all_file['artist_name'].unique().shape[0]\n",
        "print(f\"Veri kümesinde {unique_artists} eşsiz şarkıcı var.\")"
      ],
      "execution_count": null,
      "outputs": [
        {
          "output_type": "stream",
          "text": [
            "Veri kümesinde 3375 eşsiz şarkıcı var.\n"
          ],
          "name": "stdout"
        }
      ]
    },
    {
      "cell_type": "code",
      "metadata": {
        "id": "Bq9VvFmPMOWA",
        "colab": {
          "base_uri": "https://localhost:8080/"
        },
        "outputId": "90579c58-a396-4e99-8063-b38c6a5903ce"
      },
      "source": [
        "#Verisetimizdeki benzersiz kullanıcılara bakıyoruz.\n",
        "unique_users = df_all_file['user_id'].unique().shape[0]\n",
        "print(f\"Veri kümesinde {unique_users} eşsiz kullanıcı var.\")"
      ],
      "execution_count": null,
      "outputs": [
        {
          "output_type": "stream",
          "text": [
            "Veri kümesinde 76353 eşsiz kullanıcı var.\n"
          ],
          "name": "stdout"
        }
      ]
    },
    {
      "cell_type": "code",
      "metadata": {
        "id": "2RPqtGcfVBIX"
      },
      "source": [
        "song_user = df_all_file.groupby('user_id')['song_id'].count()"
      ],
      "execution_count": null,
      "outputs": []
    },
    {
      "cell_type": "code",
      "metadata": {
        "id": "lZt1d7lUxw9y",
        "colab": {
          "base_uri": "https://localhost:8080/",
          "height": 538
        },
        "outputId": "e0b40329-c4a8-4c78-ff42-9d0c4aec4fa9"
      },
      "source": [
        "plt.figure(figsize=(16, 8))\n",
        "sns.distplot(song_user.values, color='blue')\n",
        "plt.gca().spines['top'].set_visible(False)\n",
        "plt.gca().spines['right'].set_visible(False)\n",
        "plt.show();"
      ],
      "execution_count": null,
      "outputs": [
        {
          "output_type": "stream",
          "text": [
            "/usr/local/lib/python3.7/dist-packages/seaborn/distributions.py:2557: FutureWarning: `distplot` is a deprecated function and will be removed in a future version. Please adapt your code to use either `displot` (a figure-level function with similar flexibility) or `histplot` (an axes-level function for histograms).\n",
            "  warnings.warn(msg, FutureWarning)\n"
          ],
          "name": "stderr"
        },
        {
          "output_type": "display_data",
          "data": {
            "image/png": "[encoded data removed]",
            "text/plain": [
              "<Figure size 1152x576 with 1 Axes>"
            ]
          },
          "metadata": {
            "tags": [],
            "needs_background": "light"
          }
        }
      ]
    },
    {
      "cell_type": "code",
      "metadata": {
        "id": "CuZuSfHvMnN2",
        "colab": {
          "base_uri": "https://localhost:8080/"
        },
        "outputId": "75c72049-00c3-44a5-e69e-8e9b4c88d27f"
      },
      "source": [
        "#ortalama kaç şarkı dinlenmiş ona bakıyoruz.\n",
        "print(f\"Bir şarkı,ortalama  {np.mean(song_user)} kullanıcı, minimum {np.min(song_user)} maksimum {np.max(song_user)} kullanıcı tarafından dinlenmiştir.\")"
      ],
      "execution_count": null,
      "outputs": [
        {
          "output_type": "stream",
          "text": [
            "Bir şarkı,ortalama  26.194124657839247 kullanıcı, minimum 1 maksimum 711 kullanıcı tarafından dinlenmiştir.\n"
          ],
          "name": "stdout"
        }
      ]
    },
    {
      "cell_type": "code",
      "metadata": {
        "id": "o6GiUfAcMoWs"
      },
      "source": [
        "# Her kullanıcının kaç şarkı dinlediğini öğreniyoruz.\n",
        "user_counts = df_all_file.groupby('user_id')['song_id'].count()\n",
        "\n",
        "# En az 16 şarkı dinlemiş kullanıcıları filtreliyoruz.\n",
        "user_ten_id = user_counts[user_counts > 16].index.to_list()"
      ],
      "execution_count": null,
      "outputs": []
    },
    {
      "cell_type": "code",
      "metadata": {
        "id": "qRLS0fQzMsUK"
      },
      "source": [
        "#Her şarkıyı kaç kullanıcının dinlediğini öğreniyoruz.\n",
        "song_counts = df_all_file.groupby('song_id')['user_id'].count()\n",
        "\n",
        "# En az 200 kez dinlenen şarkıları edinin\n",
        "song_ten_id = song_counts[song_counts > 200].index.to_list()"
      ],
      "execution_count": null,
      "outputs": []
    },
    {
      "cell_type": "code",
      "metadata": {
        "id": "XBEJEAwWMst8"
      },
      "source": [
        "#yalnızca 16 dan fazla dinlenen kullanıcıları almak için filtreledik.\n",
        "df_song_reduced = df_all_file[(df_all_file['user_id'].isin(user_ten_id)) & (df_all_file['song_id'].isin(song_ten_id))].reset_index(drop=True)"
      ],
      "execution_count": null,
      "outputs": []
    },
    {
      "cell_type": "code",
      "metadata": {
        "id": "ZytcFAcIMuN6",
        "colab": {
          "base_uri": "https://localhost:8080/"
        },
        "outputId": "a0d4e544-4fc3-4bda-9a7e-e205166c3b90"
      },
      "source": [
        "df_song_reduced.shape"
      ],
      "execution_count": null,
      "outputs": [
        {
          "output_type": "execute_result",
          "data": {
            "text/plain": [
              "(950353, 7)"
            ]
          },
          "metadata": {
            "tags": []
          },
          "execution_count": 58
        }
      ]
    },
    {
      "cell_type": "code",
      "metadata": {
        "id": "QxxFrSPGq73V"
      },
      "source": [
        "#En popüler şarkılardan listeliyoruz.\n",
        "populer_songs = df_all_file.groupby('title')['listen_count'].count().reset_index().sort_values(['listen_count', 'title'], ascending = [0,1])\n",
        "populer_songs['percentage']  = round(populer_songs['listen_count'].div(populer_songs['listen_count'].sum())*100, 2)"
      ],
      "execution_count": null,
      "outputs": []
    },
    {
      "cell_type": "code",
      "metadata": {
        "id": "296jzW6Kta5M",
        "colab": {
          "base_uri": "https://localhost:8080/",
          "height": 358
        },
        "outputId": "30767c1d-cb82-4fe4-ba13-0fa9539c2ee3"
      },
      "source": [
        "#10 tane popüler şarkıyı listeliyoruz.\n",
        "populer_songs = populer_songs[:10]\n",
        "populer_songs"
      ],
      "execution_count": null,
      "outputs": [
        {
          "output_type": "execute_result",
          "data": {
            "text/html": [
              "<div>\n",
              "<style scoped>\n",
              "    .dataframe tbody tr th:only-of-type {\n",
              "        vertical-align: middle;\n",
              "    }\n",
              "\n",
              "    .dataframe tbody tr th {\n",
              "        vertical-align: top;\n",
              "    }\n",
              "\n",
              "    .dataframe thead th {\n",
              "        text-align: right;\n",
              "    }\n",
              "</style>\n",
              "<table border=\"1\" class=\"dataframe\">\n",
              "  <thead>\n",
              "    <tr style=\"text-align: right;\">\n",
              "      <th></th>\n",
              "      <th>title</th>\n",
              "      <th>listen_count</th>\n",
              "      <th>percentage</th>\n",
              "    </tr>\n",
              "  </thead>\n",
              "  <tbody>\n",
              "    <tr>\n",
              "      <th>6836</th>\n",
              "      <td>Sehr kosmisch</td>\n",
              "      <td>8277</td>\n",
              "      <td>0.410</td>\n",
              "    </tr>\n",
              "    <tr>\n",
              "      <th>8725</th>\n",
              "      <td>Undo</td>\n",
              "      <td>7032</td>\n",
              "      <td>0.350</td>\n",
              "    </tr>\n",
              "    <tr>\n",
              "      <th>1964</th>\n",
              "      <td>Dog Days Are Over (Radio Edit)</td>\n",
              "      <td>6949</td>\n",
              "      <td>0.350</td>\n",
              "    </tr>\n",
              "    <tr>\n",
              "      <th>9496</th>\n",
              "      <td>You're The One</td>\n",
              "      <td>6729</td>\n",
              "      <td>0.340</td>\n",
              "    </tr>\n",
              "    <tr>\n",
              "      <th>6498</th>\n",
              "      <td>Revelry</td>\n",
              "      <td>6145</td>\n",
              "      <td>0.310</td>\n",
              "    </tr>\n",
              "    <tr>\n",
              "      <th>6825</th>\n",
              "      <td>Secrets</td>\n",
              "      <td>5841</td>\n",
              "      <td>0.290</td>\n",
              "    </tr>\n",
              "    <tr>\n",
              "      <th>3437</th>\n",
              "      <td>Horn Concerto No. 4 in E flat K495: II. Romanc...</td>\n",
              "      <td>5385</td>\n",
              "      <td>0.270</td>\n",
              "    </tr>\n",
              "    <tr>\n",
              "      <th>2595</th>\n",
              "      <td>Fireflies</td>\n",
              "      <td>4795</td>\n",
              "      <td>0.240</td>\n",
              "    </tr>\n",
              "    <tr>\n",
              "      <th>3322</th>\n",
              "      <td>Hey_ Soul Sister</td>\n",
              "      <td>4758</td>\n",
              "      <td>0.240</td>\n",
              "    </tr>\n",
              "    <tr>\n",
              "      <th>8494</th>\n",
              "      <td>Tive Sim</td>\n",
              "      <td>4548</td>\n",
              "      <td>0.230</td>\n",
              "    </tr>\n",
              "  </tbody>\n",
              "</table>\n",
              "</div>"
            ],
            "text/plain": [
              "                                                  title  ...  percentage\n",
              "6836                                      Sehr kosmisch  ...       0.410\n",
              "8725                                               Undo  ...       0.350\n",
              "1964                     Dog Days Are Over (Radio Edit)  ...       0.350\n",
              "9496                                     You're The One  ...       0.340\n",
              "6498                                            Revelry  ...       0.310\n",
              "6825                                            Secrets  ...       0.290\n",
              "3437  Horn Concerto No. 4 in E flat K495: II. Romanc...  ...       0.270\n",
              "2595                                          Fireflies  ...       0.240\n",
              "3322                                   Hey_ Soul Sister  ...       0.240\n",
              "8494                                           Tive Sim  ...       0.230\n",
              "\n",
              "[10 rows x 3 columns]"
            ]
          },
          "metadata": {
            "tags": []
          },
          "execution_count": 60
        }
      ]
    },
    {
      "cell_type": "code",
      "metadata": {
        "id": "DskLXIqLtcgK"
      },
      "source": [
        "labels = populer_songs['title'].tolist()\n",
        "counts = populer_songs['listen_count'].tolist()"
      ],
      "execution_count": null,
      "outputs": []
    },
    {
      "cell_type": "code",
      "metadata": {
        "id": "aDQJSzZ1tebO",
        "colab": {
          "base_uri": "https://localhost:8080/",
          "height": 265
        },
        "outputId": "fe8d7a5f-fa75-4aeb-ec52-7bfaddd9c1cb"
      },
      "source": [
        "#En popüler şarkıları görselleştiriyoruz.\n",
        "plt.figure()\n",
        "sns.barplot(x=counts, y=labels, palette='Set3')\n",
        "sns.despine(left=True, bottom=True)"
      ],
      "execution_count": null,
      "outputs": [
        {
          "output_type": "display_data",
          "data": {
            "image/png": "[encoded data removed]",
            "text/plain": [
              "<Figure size 432x288 with 1 Axes>"
            ]
          },
          "metadata": {
            "tags": [],
            "needs_background": "light"
          }
        }
      ]
    },
    {
      "cell_type": "code",
      "metadata": {
        "id": "inGSNILMVzzu"
      },
      "source": [
        "#En popüler artistleri listeliyoruz.\n",
        "populer_artists  = df_all_file.groupby(['artist_name'])['listen_count'].count().reset_index().sort_values(['listen_count', 'artist_name'], \n",
        "                                                                                                ascending = [0,1])"
      ],
      "execution_count": null,
      "outputs": []
    },
    {
      "cell_type": "code",
      "metadata": {
        "id": "OGkyUorPtgxA",
        "colab": {
          "base_uri": "https://localhost:8080/",
          "height": 358
        },
        "outputId": "43e84900-18cd-4e8e-d8e6-3cea74ef50d5"
      },
      "source": [
        "#10 tane en popüler artisti listeliyoruz.\n",
        "populer_artists = populer_artists[:10]\n",
        "populer_artists"
      ],
      "execution_count": null,
      "outputs": [
        {
          "output_type": "execute_result",
          "data": {
            "text/html": [
              "<div>\n",
              "<style scoped>\n",
              "    .dataframe tbody tr th:only-of-type {\n",
              "        vertical-align: middle;\n",
              "    }\n",
              "\n",
              "    .dataframe tbody tr th {\n",
              "        vertical-align: top;\n",
              "    }\n",
              "\n",
              "    .dataframe thead th {\n",
              "        text-align: right;\n",
              "    }\n",
              "</style>\n",
              "<table border=\"1\" class=\"dataframe\">\n",
              "  <thead>\n",
              "    <tr style=\"text-align: right;\">\n",
              "      <th></th>\n",
              "      <th>artist_name</th>\n",
              "      <th>listen_count</th>\n",
              "    </tr>\n",
              "  </thead>\n",
              "  <tbody>\n",
              "    <tr>\n",
              "      <th>649</th>\n",
              "      <td>Coldplay</td>\n",
              "      <td>29422</td>\n",
              "    </tr>\n",
              "    <tr>\n",
              "      <th>2850</th>\n",
              "      <td>The Black Keys</td>\n",
              "      <td>19862</td>\n",
              "    </tr>\n",
              "    <tr>\n",
              "      <th>1651</th>\n",
              "      <td>Kings Of Leon</td>\n",
              "      <td>18747</td>\n",
              "    </tr>\n",
              "    <tr>\n",
              "      <th>1107</th>\n",
              "      <td>Florence + The Machine</td>\n",
              "      <td>18112</td>\n",
              "    </tr>\n",
              "    <tr>\n",
              "      <th>1370</th>\n",
              "      <td>Jack Johnson</td>\n",
              "      <td>17801</td>\n",
              "    </tr>\n",
              "    <tr>\n",
              "      <th>2946</th>\n",
              "      <td>The Killers</td>\n",
              "      <td>16063</td>\n",
              "    </tr>\n",
              "    <tr>\n",
              "      <th>2374</th>\n",
              "      <td>Radiohead</td>\n",
              "      <td>14890</td>\n",
              "    </tr>\n",
              "    <tr>\n",
              "      <th>736</th>\n",
              "      <td>Daft Punk</td>\n",
              "      <td>14715</td>\n",
              "    </tr>\n",
              "    <tr>\n",
              "      <th>2073</th>\n",
              "      <td>Muse</td>\n",
              "      <td>14005</td>\n",
              "    </tr>\n",
              "    <tr>\n",
              "      <th>1554</th>\n",
              "      <td>Justin Bieber</td>\n",
              "      <td>13959</td>\n",
              "    </tr>\n",
              "  </tbody>\n",
              "</table>\n",
              "</div>"
            ],
            "text/plain": [
              "                 artist_name  listen_count\n",
              "649                 Coldplay         29422\n",
              "2850          The Black Keys         19862\n",
              "1651           Kings Of Leon         18747\n",
              "1107  Florence + The Machine         18112\n",
              "1370            Jack Johnson         17801\n",
              "2946             The Killers         16063\n",
              "2374               Radiohead         14890\n",
              "736                Daft Punk         14715\n",
              "2073                    Muse         14005\n",
              "1554           Justin Bieber         13959"
            ]
          },
          "metadata": {
            "tags": []
          },
          "execution_count": 64
        }
      ]
    },
    {
      "cell_type": "code",
      "metadata": {
        "id": "HmePMpgatg0v",
        "colab": {
          "base_uri": "https://localhost:8080/",
          "height": 265
        },
        "outputId": "3fce0a42-fcf9-44d3-c441-fb1c5dd03142"
      },
      "source": [
        "#10 popüler artisti görselleştiriyoruz.\n",
        "plt.figure()\n",
        "labels = populer_artists['artist_name'].tolist()\n",
        "counts = populer_artists['listen_count'].tolist()\n",
        "sns.barplot(x=counts, y=labels, palette='Set2')\n",
        "sns.despine(left=True, bottom=True)"
      ],
      "execution_count": null,
      "outputs": [
        {
          "output_type": "display_data",
          "data": {
            "image/png": "[encoded data removed]",
            "text/plain": [
              "<Figure size 432x288 with 1 Axes>"
            ]
          },
          "metadata": {
            "tags": [],
            "needs_background": "light"
          }
        }
      ]
    },
    {
      "cell_type": "code",
      "metadata": {
        "id": "ENvJxmbGtnIc"
      },
      "source": [
        "#benzer kullanıcının benzer şarkıyı dinlediği süre ne kadardır bakıyoruz.\n",
        "listen_counts = pd.DataFrame(df_all_file.groupby('listen_count').size(), columns=['count'])"
      ],
      "execution_count": null,
      "outputs": []
    },
    {
      "cell_type": "code",
      "metadata": {
        "id": "6Edw_7w7tnNp",
        "colab": {
          "base_uri": "https://localhost:8080/"
        },
        "outputId": "03d6e1a0-887a-42ca-caea-73aa535a5b43"
      },
      "source": [
        "print(f\"Aynı kullanıcının aynı şarkıları dinlediği maksimum süre: {listen_counts.reset_index(drop=False)['listen_count'].iloc[-1]}\")"
      ],
      "execution_count": null,
      "outputs": [
        {
          "output_type": "stream",
          "text": [
            "Aynı kullanıcının aynı şarkıları dinlediği maksimum süre: 2213\n"
          ],
          "name": "stdout"
        }
      ]
    },
    {
      "cell_type": "code",
      "metadata": {
        "id": "fZ4W7vbktq3P",
        "colab": {
          "base_uri": "https://localhost:8080/"
        },
        "outputId": "885c7433-3f17-4b46-d6bd-daa9509e0ec7"
      },
      "source": [
        "print(f\"Ortalama olarak, bir kullanıcı aynı şarkıyı {df_all_file['listen_count'].mean()} kez dinler.\")"
      ],
      "execution_count": null,
      "outputs": [
        {
          "output_type": "stream",
          "text": [
            "Ortalama olarak, bir kullanıcı aynı şarkıyı 3.0454845 kez dinler.\n"
          ],
          "name": "stdout"
        }
      ]
    },
    {
      "cell_type": "code",
      "metadata": {
        "id": "iV4Em14Jtq_k"
      },
      "source": [
        "#Bir kullanıcının aynı şarkıyı ne kadar sık dinlediğinin sayısına bakıyoruz.\n",
        "listen_counts_continuity = listen_counts[listen_counts['count'] > 50].reset_index(drop=False)"
      ],
      "execution_count": null,
      "outputs": []
    },
    {
      "cell_type": "code",
      "metadata": {
        "id": "tWkrese2tw0F",
        "colab": {
          "base_uri": "https://localhost:8080/",
          "height": 509
        },
        "outputId": "4024ebf5-cd9e-4cdb-85f1-cd4e4cfe38c8"
      },
      "source": [
        "plt.figure(figsize=(16, 8))\n",
        "sns.barplot(x='listen_count', y='count', palette='Set3', data=listen_counts_continuity)\n",
        "plt.gca().spines['top'].set_visible(False)\n",
        "plt.gca().spines['right'].set_visible(False)\n",
        "plt.show();"
      ],
      "execution_count": null,
      "outputs": [
        {
          "output_type": "display_data",
          "data": {
            "image/png": "[encoded data removed]",
            "text/plain": [
              "<Figure size 1152x576 with 1 Axes>"
            ]
          },
          "metadata": {
            "tags": [],
            "needs_background": "light"
          }
        }
      ]
    },
    {
      "cell_type": "code",
      "metadata": {
        "id": "8iRXHXQzty2t"
      },
      "source": [
        "#Bir kullanıcı ortalama kaç şarkı dinliyora bakıyoruz.\n",
        "song_user = df_all_file.groupby('user_id')['song_id'].count()"
      ],
      "execution_count": null,
      "outputs": []
    },
    {
      "cell_type": "code",
      "metadata": {
        "id": "YRP2hAEFtw3-",
        "colab": {
          "base_uri": "https://localhost:8080/",
          "height": 538
        },
        "outputId": "fc6d78b8-e8db-44c2-dcc3-51948b512c75"
      },
      "source": [
        "plt.figure(figsize=(16, 8))\n",
        "sns.distplot(song_user.values, color='orange')\n",
        "plt.gca().spines['top'].set_visible(False)\n",
        "plt.gca().spines['right'].set_visible(False)\n",
        "plt.show();\n"
      ],
      "execution_count": null,
      "outputs": [
        {
          "output_type": "stream",
          "text": [
            "/usr/local/lib/python3.7/dist-packages/seaborn/distributions.py:2557: FutureWarning: `distplot` is a deprecated function and will be removed in a future version. Please adapt your code to use either `displot` (a figure-level function with similar flexibility) or `histplot` (an axes-level function for histograms).\n",
            "  warnings.warn(msg, FutureWarning)\n"
          ],
          "name": "stderr"
        },
        {
          "output_type": "display_data",
          "data": {
            "image/png": "[encoded data removed]",
            "text/plain": [
              "<Figure size 1152x576 with 1 Axes>"
            ]
          },
          "metadata": {
            "tags": [],
            "needs_background": "light"
          }
        }
      ]
    },
    {
      "cell_type": "code",
      "metadata": {
        "id": "CzhFbOezt2TO",
        "colab": {
          "base_uri": "https://localhost:8080/"
        },
        "outputId": "7f1329a6-c2dc-4feb-869b-6fd75f2b1624"
      },
      "source": [
        "#Bir kullanıcının ortalama 27 şarkı dinlediğini görüyoruz.\n",
        "print(f\"Bir kullanıcı ortalama {np.mean(song_user)} şarkı dinler.\")"
      ],
      "execution_count": null,
      "outputs": [
        {
          "output_type": "stream",
          "text": [
            "Bir kullanıcı ortalama 26.194124657839247 şarkı dinler.\n"
          ],
          "name": "stdout"
        }
      ]
    },
    {
      "cell_type": "code",
      "metadata": {
        "id": "Huej_R_pt2fz",
        "colab": {
          "base_uri": "https://localhost:8080/"
        },
        "outputId": "d310d79b-b870-47f8-d7bc-1edc72b2162a"
      },
      "source": [
        "#Bir kullanıcının dinlediği maksimum şarkı miktarı bile 711'dir.\n",
        "print(f\"Bir kullanıcı ortalama {np.median(song_user)} şarkı, minumum {np.min(song_user)} and maksimum {np.max(song_user)} şarkı dinlemiştir.\")"
      ],
      "execution_count": null,
      "outputs": [
        {
          "output_type": "stream",
          "text": [
            "Bir kullanıcı ortalama 16.0 şarkı, minumum 1 and maksimum 711 şarkı dinlemiştir.\n"
          ],
          "name": "stdout"
        }
      ]
    },
    {
      "cell_type": "code",
      "metadata": {
        "id": "cJBXtDlRtw8y"
      },
      "source": [
        "# Sparse matrixleri kontrol edicez. Tüm şarkılar tüm kullanıcılar tarafından dinlendiyse kaç değer olması gerektiğine bakıyoruz.\n",
        "values_matrix = unique_users * unique_songs"
      ],
      "execution_count": null,
      "outputs": []
    },
    {
      "cell_type": "code",
      "metadata": {
        "id": "2q5WjktJt7hP"
      },
      "source": [
        "# df_all_file'un gerçek halinden values_matrix'i çıkarıyoruz.\n",
        "zero_values_matrix = values_matrix - df_all_file.shape[0]"
      ],
      "execution_count": null,
      "outputs": []
    },
    {
      "cell_type": "code",
      "metadata": {
        "id": "J2I3u6syt7mi",
        "colab": {
          "base_uri": "https://localhost:8080/"
        },
        "outputId": "3e0cf640-a3ca-4a53-ddb9-ee403b57c20e"
      },
      "source": [
        "#herkesin şarkıları dinlemediği ortada ve seyrek veriler elimizde baya var.\n",
        "print(f\"The matrix of users x songs has {zero_values_matrix} values that are zero\")"
      ],
      "execution_count": null,
      "outputs": [
        {
          "output_type": "stream",
          "text": [
            "The matrix of users x songs has 728469151 values that are zero\n"
          ],
          "name": "stdout"
        }
      ]
    },
    {
      "cell_type": "code",
      "metadata": {
        "id": "vngiLxDltnUH"
      },
      "source": [
        "# En az 16 şarkı dinlemiş kullanıcılar alıyoruz.\n",
        "song_ten_id = song_user[song_user > 16].index.to_list()"
      ],
      "execution_count": null,
      "outputs": []
    },
    {
      "cell_type": "code",
      "metadata": {
        "id": "kYVSqizjt_1M"
      },
      "source": [
        "# yalnızca 16'dan fazla dinlenen kullanıcıları tutmak için filteliyoruz.\n",
        "df_song_id_more_ten = df_all_file[df_all_file['user_id'].isin(song_ten_id)].reset_index(drop=True)"
      ],
      "execution_count": null,
      "outputs": []
    },
    {
      "cell_type": "code",
      "metadata": {
        "id": "r9BfJFNut_46"
      },
      "source": [
        "# veri çerçevesini bir pivot tabloya dönüştürüyoruz.\n",
        "df_all_file_features = df_song_id_more_ten.pivot(index='song_id', columns='user_id', values='listen_count').fillna(0)\n",
        "#seyrek matrisle çalıştığımız için scipy.sparse'deki csr_matrix işlevini kullanıyoruz.\n",
        "# seyrek matrisi elde ettik.\n",
        "mat_songs_features = csr_matrix(df_all_file_features.values)"
      ],
      "execution_count": null,
      "outputs": []
    },
    {
      "cell_type": "code",
      "metadata": {
        "id": "X_4rjd69t_9i",
        "colab": {
          "base_uri": "https://localhost:8080/",
          "height": 283
        },
        "outputId": "c5c73f2e-6514-4dcf-d835-59aaf23a03b1"
      },
      "source": [
        "#Gördüğümüz gibi değerlerin çoğu sıfıra eşittir. Bu, kullanıcının o şarkıyı dinlemediğini gösterir.\n",
        "df_all_file_features.head()"
      ],
      "execution_count": null,
      "outputs": [
        {
          "output_type": "execute_result",
          "data": {
            "text/html": [
              "<div>\n",
              "<style scoped>\n",
              "    .dataframe tbody tr th:only-of-type {\n",
              "        vertical-align: middle;\n",
              "    }\n",
              "\n",
              "    .dataframe tbody tr th {\n",
              "        vertical-align: top;\n",
              "    }\n",
              "\n",
              "    .dataframe thead th {\n",
              "        text-align: right;\n",
              "    }\n",
              "</style>\n",
              "<table border=\"1\" class=\"dataframe\">\n",
              "  <thead>\n",
              "    <tr style=\"text-align: right;\">\n",
              "      <th>user_id</th>\n",
              "      <th>000e2c2a8c7870ff9121f212b35c8b3a20cc0e67</th>\n",
              "      <th>000ebc858861aca26bac9b49f650ed424cf882fc</th>\n",
              "      <th>000ef25cc955ad5841c915d269432eea41f4a1a5</th>\n",
              "      <th>0012bf75d43a724f62dc746d9e85ae0088a3a1d6</th>\n",
              "      <th>001322829b5dc3edc59bf78189617ddd8f23c82a</th>\n",
              "      <th>00185e316f07f0f00c325ca034be59c15b362401</th>\n",
              "      <th>0019740e3e8c24e223a6f88e3faa7c144ec5a014</th>\n",
              "      <th>001b005fe5e80d3cb45f320f5658fc8e2e72794e</th>\n",
              "      <th>001f22c638730aed5659034c447d3cf0e658898e</th>\n",
              "      <th>0021d9a4628624f6d70237f9c200ab82e766bf26</th>\n",
              "      <th>002543003041db1d049206b09426d5cdffc0f451</th>\n",
              "      <th>0028292aa536122c1f86fd48a39bd83fe582d27f</th>\n",
              "      <th>00292cf9c6d6e99c5ddbece7e37f957ab1362d25</th>\n",
              "      <th>00296f66ed7fb84c876486aecc9fab2d5809576d</th>\n",
              "      <th>0030822badc23ef6500a72ce7feda1c63faf2262</th>\n",
              "      <th>0031572620fa7f18487d3ea22935eb28410ecc4c</th>\n",
              "      <th>003412e33eb3d05573f7811c1ba61d6a15be5690</th>\n",
              "      <th>00342a0cdf56a45465f09a39040a5bc25b7d0046</th>\n",
              "      <th>00388e5764c59488ec06a109c88b39f59a2b6361</th>\n",
              "      <th>0039bd8483d578997718cdc0bf6c7c88b679f488</th>\n",
              "      <th>003ac50a4e6ed0c9085fecb7a1738730e7ea4942</th>\n",
              "      <th>003bfb50126f91f6389aaee733f5b3e0a8d5cbe0</th>\n",
              "      <th>003d0f3aac94fd261bb74c0124a90750579972d4</th>\n",
              "      <th>003d21762b29fe2ffe20fb9a51eb1e02ebeb3242</th>\n",
              "      <th>003d6d799d58e1fce362f5f4f6c7bcc26c8f3546</th>\n",
              "      <th>003e3919f41dbb8ff05a75623d205f6abcede4fc</th>\n",
              "      <th>003f1064ed75d1156352cd89b25fb752bcc10b13</th>\n",
              "      <th>003f1e939952a57d1a5bc990727acad5ceea97b4</th>\n",
              "      <th>00409f6a83c2bf4299ab6ae2dea958050537b5a9</th>\n",
              "      <th>0041925615557845642a7b1257fdc6229fe1ee5d</th>\n",
              "      <th>00454c72c0b4b99f9cc81ba0b1989597a43669d6</th>\n",
              "      <th>0045c60d98ced5efb3cbf1e0b4b7de1da3f1a506</th>\n",
              "      <th>00488ec44caa0d2fa669780f8cb604bf39e94392</th>\n",
              "      <th>004c7be9336ca88824e1e0b09ef9a2168200fa33</th>\n",
              "      <th>004dc9f93f5ad4a75f9a3ba0da5dd887b31d6bd2</th>\n",
              "      <th>004f6065fa9840913f62e52d94d9c29ea1d26fe1</th>\n",
              "      <th>004fcdf8829d68f4e45ef846ad9f308c4493ed8e</th>\n",
              "      <th>0051a2e7b452e3dc67f48688442032df557897f4</th>\n",
              "      <th>00544d8bde0d7985e8d703c1eb676d41cad33c67</th>\n",
              "      <th>00546de8971645143eead323561d0298d5b0f2be</th>\n",
              "      <th>...</th>\n",
              "      <th>ffb63da2222280f299a7a896edea073728aab343</th>\n",
              "      <th>ffb7096f3eeee706825b4a8c3fab98ce0e0b4216</th>\n",
              "      <th>ffb8299fcb3f31716c93fb8a77dee0d1dbb210f9</th>\n",
              "      <th>ffba3563fd590a51dabc1dfcb8a27119e6035241</th>\n",
              "      <th>ffbc58b89c81227a08ee05d90259bdd9172b9479</th>\n",
              "      <th>ffbe437f18c3bea5c78596c5f3183ee62d440b6c</th>\n",
              "      <th>ffc2563e7dd136bf371371cd21f0cc404a1d7499</th>\n",
              "      <th>ffc564b85d81f0ea427cee3eea2415cc2fc5c4be</th>\n",
              "      <th>ffc5b3bd0575330eb8c4ae4f3b9cabd3ba315dbb</th>\n",
              "      <th>ffc66b4520671da6b2a67a0326201565160d9650</th>\n",
              "      <th>ffc9966885909a0b42493b2558be9dc451317488</th>\n",
              "      <th>ffcc2cff250ea22471df09e76f59e2be0debae72</th>\n",
              "      <th>ffcfb0b34a47fdf55b3d96c1799cd196677f8261</th>\n",
              "      <th>ffd1d617221f5bf00de80ee3eb5d2a17fc8d077d</th>\n",
              "      <th>ffd25d7da8b4e54ea2cde25dd3b52d0e0aef7a5d</th>\n",
              "      <th>ffd458f903d49854685cf4540245c1d297e8bafa</th>\n",
              "      <th>ffd6f34b343cee62cd7dbbf20fb1ab1119b299e5</th>\n",
              "      <th>ffda2736b2204ece3b19e941caacad4106d00ed5</th>\n",
              "      <th>ffdaab327f2fc6b9fa01a4e3e7f41fdd0e468046</th>\n",
              "      <th>ffdb5557e4e24da051ebd6b45ec18c524c55dc40</th>\n",
              "      <th>ffdbaeb5cf2081eb34053a655c20f57524de11ba</th>\n",
              "      <th>ffde97c0d23bf5ce249ce73e630ccb4e7293cc32</th>\n",
              "      <th>ffe2a7e7b6689071f8c699d944b52ce590ae4636</th>\n",
              "      <th>ffe33dce4e652a4dc4824cc39680a9f709cfdfb3</th>\n",
              "      <th>ffebfec313fd515a11faba060b022f030b57fac0</th>\n",
              "      <th>ffecbb84f3dde31b0b2e64d70b7b7e5092bf7427</th>\n",
              "      <th>ffef9c3e59ab44554a9775af5e3b2ac149111bb6</th>\n",
              "      <th>fff03efd1550136063389fa71125194614e1c68f</th>\n",
              "      <th>fff0b1ab076f0b71cbde9c7dcbcfca400708d845</th>\n",
              "      <th>fff22417a61c1ba3ee2592b22a052ed6a27a8e91</th>\n",
              "      <th>fff300cd094fe04030b79fae550dc9d065190182</th>\n",
              "      <th>fff4676dacb2e9a7217702f62ee70e88aa512ecc</th>\n",
              "      <th>fff4e1a7dacbe9c13051c08f09bf66d76cbee35e</th>\n",
              "      <th>fff543db7918cb8f4f56f7470903eb2f1d5a6dd8</th>\n",
              "      <th>fff6c30c773e6ffafcac213c9afd9666afaf6d63</th>\n",
              "      <th>fffb701ee87a32eff67eb040ed59146121f01571</th>\n",
              "      <th>fffc0df75a48d823ad5abfaf2a1ee61eb1e3302c</th>\n",
              "      <th>fffce9c1537fbc350ea68823d956eaa8f5236dbe</th>\n",
              "      <th>fffd9635b33f412de8ed02e44e6564e3644cf3c6</th>\n",
              "      <th>fffea3d509760c984e7d40789804c0e5e289cc86</th>\n",
              "    </tr>\n",
              "    <tr>\n",
              "      <th>song_id</th>\n",
              "      <th></th>\n",
              "      <th></th>\n",
              "      <th></th>\n",
              "      <th></th>\n",
              "      <th></th>\n",
              "      <th></th>\n",
              "      <th></th>\n",
              "      <th></th>\n",
              "      <th></th>\n",
              "      <th></th>\n",
              "      <th></th>\n",
              "      <th></th>\n",
              "      <th></th>\n",
              "      <th></th>\n",
              "      <th></th>\n",
              "      <th></th>\n",
              "      <th></th>\n",
              "      <th></th>\n",
              "      <th></th>\n",
              "      <th></th>\n",
              "      <th></th>\n",
              "      <th></th>\n",
              "      <th></th>\n",
              "      <th></th>\n",
              "      <th></th>\n",
              "      <th></th>\n",
              "      <th></th>\n",
              "      <th></th>\n",
              "      <th></th>\n",
              "      <th></th>\n",
              "      <th></th>\n",
              "      <th></th>\n",
              "      <th></th>\n",
              "      <th></th>\n",
              "      <th></th>\n",
              "      <th></th>\n",
              "      <th></th>\n",
              "      <th></th>\n",
              "      <th></th>\n",
              "      <th></th>\n",
              "      <th></th>\n",
              "      <th></th>\n",
              "      <th></th>\n",
              "      <th></th>\n",
              "      <th></th>\n",
              "      <th></th>\n",
              "      <th></th>\n",
              "      <th></th>\n",
              "      <th></th>\n",
              "      <th></th>\n",
              "      <th></th>\n",
              "      <th></th>\n",
              "      <th></th>\n",
              "      <th></th>\n",
              "      <th></th>\n",
              "      <th></th>\n",
              "      <th></th>\n",
              "      <th></th>\n",
              "      <th></th>\n",
              "      <th></th>\n",
              "      <th></th>\n",
              "      <th></th>\n",
              "      <th></th>\n",
              "      <th></th>\n",
              "      <th></th>\n",
              "      <th></th>\n",
              "      <th></th>\n",
              "      <th></th>\n",
              "      <th></th>\n",
              "      <th></th>\n",
              "      <th></th>\n",
              "      <th></th>\n",
              "      <th></th>\n",
              "      <th></th>\n",
              "      <th></th>\n",
              "      <th></th>\n",
              "      <th></th>\n",
              "      <th></th>\n",
              "      <th></th>\n",
              "      <th></th>\n",
              "      <th></th>\n",
              "    </tr>\n",
              "  </thead>\n",
              "  <tbody>\n",
              "    <tr>\n",
              "      <th>SOAAAGQ12A8C1420C8</th>\n",
              "      <td>0.000</td>\n",
              "      <td>0.000</td>\n",
              "      <td>0.000</td>\n",
              "      <td>0.000</td>\n",
              "      <td>0.000</td>\n",
              "      <td>0.000</td>\n",
              "      <td>0.000</td>\n",
              "      <td>0.000</td>\n",
              "      <td>0.000</td>\n",
              "      <td>0.000</td>\n",
              "      <td>0.000</td>\n",
              "      <td>0.000</td>\n",
              "      <td>0.000</td>\n",
              "      <td>0.000</td>\n",
              "      <td>0.000</td>\n",
              "      <td>0.000</td>\n",
              "      <td>0.000</td>\n",
              "      <td>0.000</td>\n",
              "      <td>0.000</td>\n",
              "      <td>0.000</td>\n",
              "      <td>0.000</td>\n",
              "      <td>0.000</td>\n",
              "      <td>0.000</td>\n",
              "      <td>0.000</td>\n",
              "      <td>0.000</td>\n",
              "      <td>0.000</td>\n",
              "      <td>0.000</td>\n",
              "      <td>0.000</td>\n",
              "      <td>0.000</td>\n",
              "      <td>0.000</td>\n",
              "      <td>0.000</td>\n",
              "      <td>0.000</td>\n",
              "      <td>0.000</td>\n",
              "      <td>0.000</td>\n",
              "      <td>0.000</td>\n",
              "      <td>0.000</td>\n",
              "      <td>0.000</td>\n",
              "      <td>0.000</td>\n",
              "      <td>0.000</td>\n",
              "      <td>0.000</td>\n",
              "      <td>...</td>\n",
              "      <td>0.000</td>\n",
              "      <td>0.000</td>\n",
              "      <td>0.000</td>\n",
              "      <td>0.000</td>\n",
              "      <td>0.000</td>\n",
              "      <td>0.000</td>\n",
              "      <td>0.000</td>\n",
              "      <td>0.000</td>\n",
              "      <td>0.000</td>\n",
              "      <td>0.000</td>\n",
              "      <td>0.000</td>\n",
              "      <td>0.000</td>\n",
              "      <td>0.000</td>\n",
              "      <td>0.000</td>\n",
              "      <td>0.000</td>\n",
              "      <td>0.000</td>\n",
              "      <td>0.000</td>\n",
              "      <td>0.000</td>\n",
              "      <td>0.000</td>\n",
              "      <td>0.000</td>\n",
              "      <td>0.000</td>\n",
              "      <td>0.000</td>\n",
              "      <td>0.000</td>\n",
              "      <td>0.000</td>\n",
              "      <td>0.000</td>\n",
              "      <td>0.000</td>\n",
              "      <td>0.000</td>\n",
              "      <td>0.000</td>\n",
              "      <td>0.000</td>\n",
              "      <td>0.000</td>\n",
              "      <td>0.000</td>\n",
              "      <td>0.000</td>\n",
              "      <td>0.000</td>\n",
              "      <td>0.000</td>\n",
              "      <td>0.000</td>\n",
              "      <td>0.000</td>\n",
              "      <td>0.000</td>\n",
              "      <td>0.000</td>\n",
              "      <td>0.000</td>\n",
              "      <td>0.000</td>\n",
              "    </tr>\n",
              "    <tr>\n",
              "      <th>SOAACPJ12A81C21360</th>\n",
              "      <td>0.000</td>\n",
              "      <td>0.000</td>\n",
              "      <td>0.000</td>\n",
              "      <td>0.000</td>\n",
              "      <td>0.000</td>\n",
              "      <td>0.000</td>\n",
              "      <td>0.000</td>\n",
              "      <td>0.000</td>\n",
              "      <td>0.000</td>\n",
              "      <td>0.000</td>\n",
              "      <td>0.000</td>\n",
              "      <td>0.000</td>\n",
              "      <td>0.000</td>\n",
              "      <td>0.000</td>\n",
              "      <td>0.000</td>\n",
              "      <td>0.000</td>\n",
              "      <td>0.000</td>\n",
              "      <td>0.000</td>\n",
              "      <td>0.000</td>\n",
              "      <td>0.000</td>\n",
              "      <td>0.000</td>\n",
              "      <td>0.000</td>\n",
              "      <td>0.000</td>\n",
              "      <td>0.000</td>\n",
              "      <td>0.000</td>\n",
              "      <td>0.000</td>\n",
              "      <td>0.000</td>\n",
              "      <td>0.000</td>\n",
              "      <td>0.000</td>\n",
              "      <td>0.000</td>\n",
              "      <td>0.000</td>\n",
              "      <td>0.000</td>\n",
              "      <td>0.000</td>\n",
              "      <td>0.000</td>\n",
              "      <td>0.000</td>\n",
              "      <td>0.000</td>\n",
              "      <td>0.000</td>\n",
              "      <td>0.000</td>\n",
              "      <td>0.000</td>\n",
              "      <td>0.000</td>\n",
              "      <td>...</td>\n",
              "      <td>0.000</td>\n",
              "      <td>0.000</td>\n",
              "      <td>0.000</td>\n",
              "      <td>0.000</td>\n",
              "      <td>0.000</td>\n",
              "      <td>0.000</td>\n",
              "      <td>0.000</td>\n",
              "      <td>0.000</td>\n",
              "      <td>0.000</td>\n",
              "      <td>0.000</td>\n",
              "      <td>0.000</td>\n",
              "      <td>0.000</td>\n",
              "      <td>0.000</td>\n",
              "      <td>0.000</td>\n",
              "      <td>0.000</td>\n",
              "      <td>0.000</td>\n",
              "      <td>0.000</td>\n",
              "      <td>0.000</td>\n",
              "      <td>0.000</td>\n",
              "      <td>0.000</td>\n",
              "      <td>0.000</td>\n",
              "      <td>0.000</td>\n",
              "      <td>0.000</td>\n",
              "      <td>0.000</td>\n",
              "      <td>0.000</td>\n",
              "      <td>0.000</td>\n",
              "      <td>0.000</td>\n",
              "      <td>0.000</td>\n",
              "      <td>0.000</td>\n",
              "      <td>0.000</td>\n",
              "      <td>0.000</td>\n",
              "      <td>0.000</td>\n",
              "      <td>0.000</td>\n",
              "      <td>0.000</td>\n",
              "      <td>0.000</td>\n",
              "      <td>0.000</td>\n",
              "      <td>0.000</td>\n",
              "      <td>0.000</td>\n",
              "      <td>0.000</td>\n",
              "      <td>0.000</td>\n",
              "    </tr>\n",
              "    <tr>\n",
              "      <th>SOAACSG12AB018DC80</th>\n",
              "      <td>0.000</td>\n",
              "      <td>0.000</td>\n",
              "      <td>0.000</td>\n",
              "      <td>0.000</td>\n",
              "      <td>0.000</td>\n",
              "      <td>0.000</td>\n",
              "      <td>0.000</td>\n",
              "      <td>0.000</td>\n",
              "      <td>0.000</td>\n",
              "      <td>0.000</td>\n",
              "      <td>0.000</td>\n",
              "      <td>0.000</td>\n",
              "      <td>0.000</td>\n",
              "      <td>0.000</td>\n",
              "      <td>0.000</td>\n",
              "      <td>0.000</td>\n",
              "      <td>0.000</td>\n",
              "      <td>0.000</td>\n",
              "      <td>0.000</td>\n",
              "      <td>0.000</td>\n",
              "      <td>0.000</td>\n",
              "      <td>0.000</td>\n",
              "      <td>0.000</td>\n",
              "      <td>0.000</td>\n",
              "      <td>0.000</td>\n",
              "      <td>0.000</td>\n",
              "      <td>0.000</td>\n",
              "      <td>0.000</td>\n",
              "      <td>0.000</td>\n",
              "      <td>0.000</td>\n",
              "      <td>0.000</td>\n",
              "      <td>0.000</td>\n",
              "      <td>0.000</td>\n",
              "      <td>0.000</td>\n",
              "      <td>0.000</td>\n",
              "      <td>0.000</td>\n",
              "      <td>0.000</td>\n",
              "      <td>0.000</td>\n",
              "      <td>0.000</td>\n",
              "      <td>0.000</td>\n",
              "      <td>...</td>\n",
              "      <td>0.000</td>\n",
              "      <td>0.000</td>\n",
              "      <td>0.000</td>\n",
              "      <td>0.000</td>\n",
              "      <td>0.000</td>\n",
              "      <td>0.000</td>\n",
              "      <td>0.000</td>\n",
              "      <td>0.000</td>\n",
              "      <td>0.000</td>\n",
              "      <td>0.000</td>\n",
              "      <td>0.000</td>\n",
              "      <td>0.000</td>\n",
              "      <td>0.000</td>\n",
              "      <td>0.000</td>\n",
              "      <td>0.000</td>\n",
              "      <td>0.000</td>\n",
              "      <td>0.000</td>\n",
              "      <td>0.000</td>\n",
              "      <td>0.000</td>\n",
              "      <td>0.000</td>\n",
              "      <td>0.000</td>\n",
              "      <td>0.000</td>\n",
              "      <td>0.000</td>\n",
              "      <td>0.000</td>\n",
              "      <td>0.000</td>\n",
              "      <td>0.000</td>\n",
              "      <td>0.000</td>\n",
              "      <td>0.000</td>\n",
              "      <td>0.000</td>\n",
              "      <td>0.000</td>\n",
              "      <td>0.000</td>\n",
              "      <td>0.000</td>\n",
              "      <td>0.000</td>\n",
              "      <td>0.000</td>\n",
              "      <td>0.000</td>\n",
              "      <td>0.000</td>\n",
              "      <td>0.000</td>\n",
              "      <td>0.000</td>\n",
              "      <td>0.000</td>\n",
              "      <td>0.000</td>\n",
              "    </tr>\n",
              "    <tr>\n",
              "      <th>SOAAEJI12AB0188AB5</th>\n",
              "      <td>0.000</td>\n",
              "      <td>0.000</td>\n",
              "      <td>0.000</td>\n",
              "      <td>0.000</td>\n",
              "      <td>0.000</td>\n",
              "      <td>0.000</td>\n",
              "      <td>0.000</td>\n",
              "      <td>0.000</td>\n",
              "      <td>0.000</td>\n",
              "      <td>0.000</td>\n",
              "      <td>0.000</td>\n",
              "      <td>0.000</td>\n",
              "      <td>0.000</td>\n",
              "      <td>0.000</td>\n",
              "      <td>0.000</td>\n",
              "      <td>0.000</td>\n",
              "      <td>0.000</td>\n",
              "      <td>0.000</td>\n",
              "      <td>0.000</td>\n",
              "      <td>0.000</td>\n",
              "      <td>0.000</td>\n",
              "      <td>0.000</td>\n",
              "      <td>0.000</td>\n",
              "      <td>0.000</td>\n",
              "      <td>0.000</td>\n",
              "      <td>0.000</td>\n",
              "      <td>0.000</td>\n",
              "      <td>0.000</td>\n",
              "      <td>0.000</td>\n",
              "      <td>0.000</td>\n",
              "      <td>0.000</td>\n",
              "      <td>0.000</td>\n",
              "      <td>0.000</td>\n",
              "      <td>0.000</td>\n",
              "      <td>0.000</td>\n",
              "      <td>0.000</td>\n",
              "      <td>0.000</td>\n",
              "      <td>0.000</td>\n",
              "      <td>0.000</td>\n",
              "      <td>0.000</td>\n",
              "      <td>...</td>\n",
              "      <td>0.000</td>\n",
              "      <td>0.000</td>\n",
              "      <td>0.000</td>\n",
              "      <td>0.000</td>\n",
              "      <td>0.000</td>\n",
              "      <td>0.000</td>\n",
              "      <td>0.000</td>\n",
              "      <td>0.000</td>\n",
              "      <td>0.000</td>\n",
              "      <td>0.000</td>\n",
              "      <td>0.000</td>\n",
              "      <td>0.000</td>\n",
              "      <td>0.000</td>\n",
              "      <td>0.000</td>\n",
              "      <td>0.000</td>\n",
              "      <td>0.000</td>\n",
              "      <td>0.000</td>\n",
              "      <td>0.000</td>\n",
              "      <td>1.000</td>\n",
              "      <td>0.000</td>\n",
              "      <td>0.000</td>\n",
              "      <td>0.000</td>\n",
              "      <td>0.000</td>\n",
              "      <td>0.000</td>\n",
              "      <td>0.000</td>\n",
              "      <td>0.000</td>\n",
              "      <td>0.000</td>\n",
              "      <td>0.000</td>\n",
              "      <td>0.000</td>\n",
              "      <td>0.000</td>\n",
              "      <td>0.000</td>\n",
              "      <td>0.000</td>\n",
              "      <td>0.000</td>\n",
              "      <td>0.000</td>\n",
              "      <td>0.000</td>\n",
              "      <td>0.000</td>\n",
              "      <td>0.000</td>\n",
              "      <td>0.000</td>\n",
              "      <td>0.000</td>\n",
              "      <td>0.000</td>\n",
              "    </tr>\n",
              "    <tr>\n",
              "      <th>SOAAFAC12A67ADF7EB</th>\n",
              "      <td>0.000</td>\n",
              "      <td>0.000</td>\n",
              "      <td>0.000</td>\n",
              "      <td>0.000</td>\n",
              "      <td>0.000</td>\n",
              "      <td>0.000</td>\n",
              "      <td>0.000</td>\n",
              "      <td>0.000</td>\n",
              "      <td>0.000</td>\n",
              "      <td>0.000</td>\n",
              "      <td>0.000</td>\n",
              "      <td>0.000</td>\n",
              "      <td>0.000</td>\n",
              "      <td>0.000</td>\n",
              "      <td>0.000</td>\n",
              "      <td>0.000</td>\n",
              "      <td>0.000</td>\n",
              "      <td>0.000</td>\n",
              "      <td>0.000</td>\n",
              "      <td>0.000</td>\n",
              "      <td>0.000</td>\n",
              "      <td>0.000</td>\n",
              "      <td>0.000</td>\n",
              "      <td>0.000</td>\n",
              "      <td>0.000</td>\n",
              "      <td>0.000</td>\n",
              "      <td>0.000</td>\n",
              "      <td>0.000</td>\n",
              "      <td>0.000</td>\n",
              "      <td>0.000</td>\n",
              "      <td>0.000</td>\n",
              "      <td>0.000</td>\n",
              "      <td>0.000</td>\n",
              "      <td>0.000</td>\n",
              "      <td>0.000</td>\n",
              "      <td>0.000</td>\n",
              "      <td>0.000</td>\n",
              "      <td>0.000</td>\n",
              "      <td>0.000</td>\n",
              "      <td>0.000</td>\n",
              "      <td>...</td>\n",
              "      <td>0.000</td>\n",
              "      <td>0.000</td>\n",
              "      <td>0.000</td>\n",
              "      <td>0.000</td>\n",
              "      <td>0.000</td>\n",
              "      <td>0.000</td>\n",
              "      <td>0.000</td>\n",
              "      <td>0.000</td>\n",
              "      <td>0.000</td>\n",
              "      <td>0.000</td>\n",
              "      <td>0.000</td>\n",
              "      <td>0.000</td>\n",
              "      <td>0.000</td>\n",
              "      <td>0.000</td>\n",
              "      <td>0.000</td>\n",
              "      <td>1.000</td>\n",
              "      <td>0.000</td>\n",
              "      <td>0.000</td>\n",
              "      <td>0.000</td>\n",
              "      <td>0.000</td>\n",
              "      <td>0.000</td>\n",
              "      <td>0.000</td>\n",
              "      <td>0.000</td>\n",
              "      <td>0.000</td>\n",
              "      <td>0.000</td>\n",
              "      <td>0.000</td>\n",
              "      <td>0.000</td>\n",
              "      <td>0.000</td>\n",
              "      <td>0.000</td>\n",
              "      <td>0.000</td>\n",
              "      <td>0.000</td>\n",
              "      <td>0.000</td>\n",
              "      <td>0.000</td>\n",
              "      <td>0.000</td>\n",
              "      <td>0.000</td>\n",
              "      <td>0.000</td>\n",
              "      <td>0.000</td>\n",
              "      <td>0.000</td>\n",
              "      <td>0.000</td>\n",
              "      <td>0.000</td>\n",
              "    </tr>\n",
              "  </tbody>\n",
              "</table>\n",
              "<p>5 rows × 36561 columns</p>\n",
              "</div>"
            ],
            "text/plain": [
              "user_id             000e2c2a8c7870ff9121f212b35c8b3a20cc0e67  ...  fffea3d509760c984e7d40789804c0e5e289cc86\n",
              "song_id                                                       ...                                          \n",
              "SOAAAGQ12A8C1420C8                                     0.000  ...                                     0.000\n",
              "SOAACPJ12A81C21360                                     0.000  ...                                     0.000\n",
              "SOAACSG12AB018DC80                                     0.000  ...                                     0.000\n",
              "SOAAEJI12AB0188AB5                                     0.000  ...                                     0.000\n",
              "SOAAFAC12A67ADF7EB                                     0.000  ...                                     0.000\n",
              "\n",
              "[5 rows x 36561 columns]"
            ]
          },
          "metadata": {
            "tags": []
          },
          "execution_count": 81
        }
      ]
    },
    {
      "cell_type": "code",
      "metadata": {
        "id": "oCoraJunuEuf"
      },
      "source": [
        "#Duplicated verilerden kurtuluyoruz.\n",
        "df_unique_songs = df_all_file.drop_duplicates(subset=['song_id']).reset_index(drop=True)[['song_id', 'title']]"
      ],
      "execution_count": null,
      "outputs": []
    },
    {
      "cell_type": "code",
      "metadata": {
        "id": "LIHTNHP6uEyi"
      },
      "source": [
        "#Veriler song_id ile geldiği için isimlerini getiriyoruz.\n",
        "decode_id_song = {\n",
        "    song: i for i, song in \n",
        "    enumerate(list(df_unique_songs.set_index('song_id').loc[df_all_file_features.index].title))\n",
        "}"
      ],
      "execution_count": null,
      "outputs": []
    },
    {
      "cell_type": "code",
      "metadata": {
        "id": "4qWYoF3xxQku"
      },
      "source": [
        "#pip install -r requirements.txt"
      ],
      "execution_count": null,
      "outputs": []
    },
    {
      "cell_type": "code",
      "metadata": {
        "id": "XkL3Mpym2BQl"
      },
      "source": [
        "#Recommender isminde sınıf oluşturuyoruz. Bu sınıf yeni öneri oluşturmak için oluşturuldu.\n",
        "from sklearn.neighbors import NearestNeighbors\n",
        "from fuzzywuzzy import fuzz\n",
        "import numpy as np\n",
        "\n",
        "class Recommender:\n",
        "    def __init__(self, metric, algorithm, k, data, decode_id_song):\n",
        "        self.metric = metric\n",
        "        self.algorithm = algorithm\n",
        "        self.k = k\n",
        "        self.data = data\n",
        "        self.decode_id_song = decode_id_song\n",
        "        self.data = data\n",
        "        self.model = self._recommender().fit(data)\n",
        "    \n",
        "    def make_recommendation(self, new_song, n_recommendations):\n",
        "        recommended = self._recommend(new_song=new_song, n_recommendations=n_recommendations)\n",
        "        print(\"... Tamamlandı\")\n",
        "        return recommended \n",
        "    \n",
        "    def _recommender(self):\n",
        "        return NearestNeighbors(metric=self.metric, algorithm=self.algorithm, n_neighbors=self.k, n_jobs=-1)\n",
        "    \n",
        "    def _recommend(self, new_song, n_recommendations):\n",
        "        # Önerilen şarkıların kimliğini alın.\n",
        "        recommendations = []\n",
        "        recommendation_ids = self._get_recommendations(new_song=new_song, n_recommendations=n_recommendations)\n",
        "        # bir eşleme sözlüğü kullanarak şarkının adını döndürür.\n",
        "        recommendations_map = self._map_indeces_to_song_title(recommendation_ids)\n",
        "        # Bu önerileri, önerilen şarkı adlarının sıralamasına çevirin.\n",
        "        for i, (idx, dist) in enumerate(recommendation_ids):\n",
        "            recommendations.append(recommendations_map[idx])\n",
        "        return recommendations\n",
        "                 \n",
        "    def _get_recommendations(self, new_song, n_recommendations):\n",
        "        # Metne göre şarkının kimliğini alın.\n",
        "        recom_song_id = self._fuzzy_matching(song=new_song)\n",
        "        # Öneri süreci başlar.\n",
        "        print(f\"  {new_song} için öneri süreci başladı ...\")\n",
        "        # Şarkı kimliği için n komşuyu döndürür.\n",
        "        distances, indices = self.model.kneighbors(self.data[recom_song_id], n_neighbors=n_recommendations+1)\n",
        "        return sorted(list(zip(indices.squeeze().tolist(), distances.squeeze().tolist())), key=lambda x: x[1])[:0:-1]\n",
        "    \n",
        "    def _map_indeces_to_song_title(self, recommendation_ids):\n",
        "        return {song_id: song_title for song_title, song_id in self.decode_id_song.items()}\n",
        "    \n",
        "    def _fuzzy_matching(self, song):\n",
        "      #eşleme işlemi.\n",
        "        match_tuple = []\n",
        "        for title, idx in self.decode_id_song.items():\n",
        "            str = \"title\" and \"song\"\n",
        "            ratio = fuzz.ratio(str.lower(), str.lower())\n",
        "            if ratio >= 60:\n",
        "                match_tuple.append((title, idx, ratio))\n",
        "        # sıralama işlemi.\n",
        "        match_tuple = sorted(match_tuple, key=lambda x: x[2])[::-1]\n",
        "        if not match_tuple:\n",
        "            print(f\"{song} Öneri sistemi için bir eşleşme bulamadı\")\n",
        "            return\n",
        "        return match_tuple[0][1]"
      ],
      "execution_count": null,
      "outputs": []
    },
    {
      "cell_type": "code",
      "metadata": {
        "id": "20mFFwDCup8F"
      },
      "source": [
        "#Recommender sınıfını şarkıları tahmin etmek için kullanıyoruz.\n",
        "model = Recommender(metric='cosine', algorithm='brute', k=20, data=mat_songs_features, decode_id_song=decode_id_song)"
      ],
      "execution_count": null,
      "outputs": []
    },
    {
      "cell_type": "code",
      "metadata": {
        "id": "gJajT5ULuqCG"
      },
      "source": [
        "#Şarkı ismini yazıyoruz.\n",
        "song = 'I believe in miracles'"
      ],
      "execution_count": null,
      "outputs": []
    },
    {
      "cell_type": "code",
      "metadata": {
        "id": "v1vAl6DRoJnN",
        "colab": {
          "base_uri": "https://localhost:8080/"
        },
        "outputId": "e939bd65-3147-44d2-b9fe-db0bad76d12b"
      },
      "source": [
        "#10 tane öneride bulunulacak.\n",
        "new_recommendations = model.make_recommendation(new_song=song, n_recommendations=10)"
      ],
      "execution_count": null,
      "outputs": [
        {
          "output_type": "stream",
          "text": [
            "  I believe in miracles için öneri süreci başladı ...\n",
            "... Tamamlandı\n"
          ],
          "name": "stdout"
        }
      ]
    },
    {
      "cell_type": "code",
      "metadata": {
        "id": "SMIv-_-VuABw",
        "colab": {
          "base_uri": "https://localhost:8080/"
        },
        "outputId": "6eed0dc0-2720-4daf-a55e-8754f6ee4fdc"
      },
      "source": [
        "#Yeni önerleri yazdırıyoruz.\n",
        "print(f\" {song} için öneriler :\")\n",
        "print(f\"\\n{new_recommendations}\\n\\n\")"
      ],
      "execution_count": null,
      "outputs": [
        {
          "output_type": "stream",
          "text": [
            " I believe in miracles için öneriler :\n",
            "\n",
            "['Paradise Circus (Gui Boratto Remix)', 'End Credits', 'Land of Hope and Dreams', 'Miami', 'Yeah', 'Smoke Some Weed (edited version)', 'Unravel', 'Possibly Maybe', 'Reclaimer', 'Pieces']\n",
            "\n",
            "\n"
          ],
          "name": "stdout"
        }
      ]
    },
    {
      "cell_type": "markdown",
      "metadata": {
        "id": "aJORv5JbE6ry"
      },
      "source": [
        "Matris Çarpanlara ayırma, bir öneri sistemini oluşturmanın güçlü bir yoludur. Bunun arkasındaki fikir, kullanıcıları ve öğeleri daha düşük boyutlu bir gizli uzayda temsil etmektir.\n",
        "Başka bir deyişle, Matris çarpanlarına ayırma yöntemleri, orijinal seyrek kullanıcı öğesi matrisini, gizli özelliklere sahip daha düşük boyutlu daha az seyrek dikdörtgen matrislere ayrıştırır.\n",
        "Bu, yalnızca seyreklik sorununu çözmekle kalmaz, aynı zamanda yöntemi ölçeklenebilir hale getirir.\n",
        "Burada matrix ayrıştırma yöntemi olan SVD'yi uygulayacağız.\n",
        "\n",
        "U, kullanıcı-user matrix.\n",
        "V, şarkı-song matrix.\n",
        "S, orijinal matrisin tekil değerlerini içeren köşegen matristir."
      ]
    },
    {
      "cell_type": "code",
      "metadata": {
        "id": "okvlwNaWNcrD"
      },
      "source": [
        "#Burada binning işlemi yapıyoruz. Bu işlem numerik verilerin kategorik karşılıklarına dönüştürülmesi işlemine verilen addır.\n",
        "#Örneğin Age değişkeninin değerlerini 20-39, 40-59 ve 60-79 gibi aralıklara gruplama işlemi buna bir örnek olarak verilebilir.\n",
        "#bu yöntem aykırı gözlemlerin tespitini, geçersiz veya eksik numerik değerlerin tespitini kolaylaştırır.\n",
        "#10 kategori tanımlıyoruz. 0'dan 1'e kadar olan aralığa düşen orijinal veri değerleri, temsili 1 derecelendirmesi ile değiştirilecektir.\n",
        "#Son kategori, 9 ile 2213 arasında değişen orijinal değerlere atanacaktır.\n",
        "#Bir kullanıcı bir şarkıyı 10 defadan fazla dinlerse, 10 atayacağız.\n",
        "bins = [0, 1, 2, 3, 4, 5, 6, 7, 8, 9, 2214]"
      ],
      "execution_count": null,
      "outputs": []
    },
    {
      "cell_type": "code",
      "metadata": {
        "id": "TJNGcGfkNeWM"
      },
      "source": [
        "df_song_reduced['listen_count'] = pd.cut(df_song_reduced['listen_count'], bins=bins, labels=[1, 2, 3, 4, 5, 6, 7, 8, 9, 10])"
      ],
      "execution_count": null,
      "outputs": []
    },
    {
      "cell_type": "code",
      "metadata": {
        "id": "PiioQNl0Nfwb"
      },
      "source": [
        "listen_counts = pd.DataFrame(df_song_reduced.groupby('listen_count').size(), columns=['count']).reset_index(drop=False)"
      ],
      "execution_count": null,
      "outputs": []
    },
    {
      "cell_type": "code",
      "metadata": {
        "id": "36Ktf3DVNhYL",
        "colab": {
          "base_uri": "https://localhost:8080/",
          "height": 498
        },
        "outputId": "f3d95d50-380b-49b6-d839-1343e221800f"
      },
      "source": [
        "#oluşturduğumuz 10 kategoriyi görselleştiriyoruz.\n",
        "plt.figure(figsize=(16, 8))\n",
        "sns.barplot(x='listen_count', y='count', palette='Set3', data=listen_counts)\n",
        "plt.gca().spines['top'].set_visible(False)\n",
        "plt.gca().spines['right'].set_visible(False)\n",
        "plt.show();"
      ],
      "execution_count": null,
      "outputs": [
        {
          "output_type": "display_data",
          "data": {
            "image/png": "[encoded data removed]",
            "text/plain": [
              "<Figure size 1152x576 with 1 Axes>"
            ]
          },
          "metadata": {
            "tags": [],
            "needs_background": "light"
          }
        }
      ]
    },
    {
      "cell_type": "code",
      "metadata": {
        "id": "A4jPDtCfNk4e"
      },
      "source": [
        "#Surprise, özellikle tavsiye sistemleri için tasarlanmış, kullanımı kolay bir Python kütüphanesidir. burdada kullanacağız.\n",
        "#Dosyamızdan derecelendirmeleri içeren dataframe'i çekiyoruz.\n",
        "reader = Reader(rating_scale=(1, 10))\n",
        "data = Dataset.load_from_df(df_song_reduced[['user_id', 'song_id', 'listen_count']], reader)"
      ],
      "execution_count": null,
      "outputs": []
    },
    {
      "cell_type": "code",
      "metadata": {
        "id": "L6OOuLZoNxpS"
      },
      "source": [
        "#verimizi test ve eğitim olarak ikiye ayırdık.\n",
        "trainset, testset = train_test_split(data, test_size=.25)"
      ],
      "execution_count": null,
      "outputs": []
    },
    {
      "cell_type": "code",
      "metadata": {
        "id": "7rRWyk8hNyZs"
      },
      "source": [
        "#en iyi parametreleri bulmak için birden fazla parametre  tanımlıyoruz.\n",
        "param_grid = {'n_factors': [160], \n",
        "              'n_epochs': [100], \n",
        "              'lr_all': [0.001, 0.005],\n",
        "              'reg_all': [0.08, 0.1]}"
      ],
      "execution_count": null,
      "outputs": []
    },
    {
      "cell_type": "markdown",
      "metadata": {
        "id": "Blt1-fN7sS84"
      },
      "source": [
        "Buradaki SVD bir matrisi diğer iki matriste çarpanlarına ayırdığını ve ardından özelliklerin ve ağırlıkların en uygun değerlerini bulmak için gradyan inişini kullanan yöntemdir."
      ]
    },
    {
      "cell_type": "code",
      "metadata": {
        "id": "H-EcCiXIN1aC"
      },
      "source": [
        "#GridSearchCV sınıfı, cross-validation yaparak SVDalgorithm  için doğrululuk ölçümlerini hesaplayacak.\n",
        "grid_search_svd = GridSearchCV(SVD, param_grid, measures=['rmse'], cv=3, joblib_verbose=4, n_jobs=-2)"
      ],
      "execution_count": null,
      "outputs": []
    },
    {
      "cell_type": "code",
      "metadata": {
        "id": "rT9kM8ZZN44c",
        "colab": {
          "base_uri": "https://localhost:8080/"
        },
        "outputId": "0a3034b6-7b95-45a4-e291-4decd2062b3b"
      },
      "source": [
        "# model için en iyi parametreleri buluyor.\n",
        "grid_search_svd.fit(data)\n",
        "find_algo = grid_search_svd.best_estimator['rmse']\n",
        "print(grid_search_svd.best_score['rmse'])\n",
        "print(grid_search_svd.best_params['rmse'])"
      ],
      "execution_count": null,
      "outputs": [
        {
          "output_type": "stream",
          "text": [
            "[Parallel(n_jobs=-2)]: Using backend SequentialBackend with 1 concurrent workers.\n",
            "[Parallel(n_jobs=-2)]: Done   1 out of   1 | elapsed:  4.7min remaining:    0.0s\n",
            "[Parallel(n_jobs=-2)]: Done   2 out of   2 | elapsed:  9.4min remaining:    0.0s\n",
            "[Parallel(n_jobs=-2)]: Done   3 out of   3 | elapsed: 14.1min remaining:    0.0s\n"
          ],
          "name": "stderr"
        },
        {
          "output_type": "stream",
          "text": [
            "2.196653880110077\n",
            "{'n_factors': 160, 'n_epochs': 100, 'lr_all': 0.005, 'reg_all': 0.1}\n"
          ],
          "name": "stdout"
        },
        {
          "output_type": "stream",
          "text": [
            "[Parallel(n_jobs=-2)]: Done  12 out of  12 | elapsed: 56.3min finished\n"
          ],
          "name": "stderr"
        }
      ]
    },
    {
      "cell_type": "code",
      "metadata": {
        "id": "PQFZcHwrN5pe",
        "colab": {
          "base_uri": "https://localhost:8080/"
        },
        "outputId": "b1de1735-4a24-40f5-838b-cecbdf697808"
      },
      "source": [
        "# cross validation işlemi yapılıyor..\n",
        "cross_validate(find_algo, data, measures=['RMSE'], cv=5, verbose=True)"
      ],
      "execution_count": null,
      "outputs": [
        {
          "output_type": "stream",
          "text": [
            "Evaluating RMSE of algorithm SVD on 5 split(s).\n",
            "\n",
            "                  Fold 1  Fold 2  Fold 3  Fold 4  Fold 5  Mean    Std     \n",
            "RMSE (testset)    2.1786  2.1811  2.1722  2.1713  2.1785  2.1764  0.0039  \n",
            "Fit time          330.43  334.23  332.56  334.51  333.48  333.04  1.47    \n",
            "Test time         3.85    3.20    3.62    3.60    3.52    3.56    0.21    \n"
          ],
          "name": "stdout"
        },
        {
          "output_type": "execute_result",
          "data": {
            "text/plain": [
              "{'fit_time': (330.42696356773376,\n",
              "  334.23361563682556,\n",
              "  332.56328535079956,\n",
              "  334.5083963871002,\n",
              "  333.4791622161865),\n",
              " 'test_rmse': array([2.17864239, 2.18109633, 2.17221136, 2.17132086, 2.17854837]),\n",
              " 'test_time': (3.8483097553253174,\n",
              "  3.198702096939087,\n",
              "  3.6153924465179443,\n",
              "  3.5999739170074463,\n",
              "  3.523448944091797)}"
            ]
          },
          "metadata": {
            "tags": []
          },
          "execution_count": 102
        }
      ]
    },
    {
      "cell_type": "code",
      "metadata": {
        "id": "BQN3ZGcTN8zC",
        "colab": {
          "base_uri": "https://localhost:8080/"
        },
        "outputId": "b5f39eb3-934e-4e72-ffb1-e81b0fe572c2"
      },
      "source": [
        "#Model için en iyi parametreleri bulduktan sonra son modelimizi oluşturuyor, eğitiyor ve test seti için hatayı buluyoruz.\n",
        "final_algorithm = SVD(n_factors=160, n_epochs=100, lr_all=0.005, reg_all=0.1)\n",
        "final_algorithm.fit(trainset)\n",
        "test_predictions = final_algorithm.test(testset)\n",
        "#accuracy'i hesaplanıyor.\n",
        "print(f\"The RMSE is {accuracy.rmse(test_predictions, verbose=True)}\")"
      ],
      "execution_count": null,
      "outputs": [
        {
          "output_type": "stream",
          "text": [
            "RMSE: 2.1846\n",
            "The RMSE is 2.184638130030212\n"
          ],
          "name": "stdout"
        }
      ]
    },
    {
      "cell_type": "code",
      "metadata": {
        "colab": {
          "base_uri": "https://localhost:8080/"
        },
        "id": "rJ6ZrfywNjz8",
        "outputId": "f25f8f96-fcb2-4935-a573-553302f2ac0c"
      },
      "source": [
        "#Artık bir kullanıcının belirli bir şarkıya vereceği puanı bulabiliriz.\n",
        "# bir şarkı seçiliyor.\n",
        "song = df_song_reduced['title'].iloc[100]\n",
        "# bir kullanıcı seçiliyor.\n",
        "user = df_song_reduced['user_id'].iloc[5]\n",
        "\n",
        "# tahminde bulunuluyor.\n",
        "prediction = final_algorithm.predict(5, 100)\n",
        "\n",
        "print(f\" {user} kullanıcısının {song} şarkısına vereceği derecelendirmesi {round(prediction.est, 2)}\")"
      ],
      "execution_count": null,
      "outputs": [
        {
          "output_type": "stream",
          "text": [
            " b80344d063b5ccb3212f76538f3d9e43d87dca9e kullanıcısının Sleeping In (Album) şarkısına vereceği derecelendirmesi 2.57\n"
          ],
          "name": "stdout"
        }
      ]
    }
  ]
}